{
 "cells": [
  {
   "cell_type": "markdown",
   "id": "18fefaea",
   "metadata": {
    "id": "18fefaea"
   },
   "source": [
    "## Global energy consumption for Fossil fuels and Low-carbon resources\n",
    "\n",
    "Submitted by:\n",
    "- Aditi Krishna\n",
    "- Pranshu Dixit\n",
    "- Shreya Patil"
   ]
  },
  {
   "cell_type": "markdown",
   "id": "5027e221",
   "metadata": {
    "id": "5027e221"
   },
   "source": [
    "### INTRODUCTION\n",
    "Global energy consumption is the amount of power used by different types of non-renewable and renewable energy source.\n",
    "\n",
    "World energy supply and cosumption is based on global production, preparation of fuel, power generation and energy transport. Many countries need energy supply and consumption for its developpment, for its economic and also for its industrialization.\n",
    "\n",
    "Energy consumption for some countries in the world is very high than others countries. The world needs to shift away from fossil fuels to an energy mix dominated by low-carbon sources of energy – renewable technologies and nuclear power. \n",
    "\n",
    "#### About the dataset\n",
    "The datasets used in this project is publicly accessible in [Our World in Data](https://ourworldindata.org/energy-production-consumption). Datasets contains the following characteristics and indicators:\n",
    "- Data from 1900 to 2019\n",
    "- 116 countries\n",
    "- 8 types of energy sources (values in **Exajoule**)\n",
    "    - Fossil fuels : Oil, Gas, Coal\n",
    "    - Low carbon fuels: Solar, Hydro, Nuclear, Wind, Geo Biomass"
   ]
  },
  {
   "cell_type": "markdown",
   "id": "37759e4f",
   "metadata": {
    "id": "37759e4f"
   },
   "source": [
    "### Aim of the analysis\n",
    "\n",
    "1. Global energy consumption for the years 1965 to 2019.\n",
    "2. Decrease in fossil energy consumption for the past 10 years (2009 to 2019)\n",
    "3. Finding the most promising renewable energy source for the past 20 years (1999 to 2019).\n",
    "4. Which countries get the highest share of energy from low-carbon sources?\n",
    "5. Analyzing low-carbon energy consumption for the year 2019, top consuming countries\n",
    "6. Prediction of low-carbon energy resource consumption for the next 10 years.\n",
    "\n",
    "The above EDA will give us an idea about which countries are putting efforts to shift towards a low-carbon, renewable energy source."
   ]
  },
  {
   "cell_type": "code",
   "execution_count": 2,
   "id": "7e365bab",
   "metadata": {
    "id": "7e365bab"
   },
   "outputs": [],
   "source": [
    "# importing data\n",
    "import pandas as pd\n",
    "import numpy as np\n",
    "import matplotlib.pyplot as plt\n",
    "import seaborn as sns\n",
    "%matplotlib inline"
   ]
  },
  {
   "cell_type": "markdown",
   "id": "0081e256",
   "metadata": {
    "id": "0081e256"
   },
   "source": [
    "#### Loading Data"
   ]
  },
  {
   "cell_type": "code",
   "execution_count": 3,
   "id": "66bef2cb",
   "metadata": {
    "colab": {
     "base_uri": "https://localhost:8080/",
     "height": 206
    },
    "id": "66bef2cb",
    "outputId": "e2feaabc-bc4c-402f-de0a-e8fc4a50927c"
   },
   "outputs": [
    {
     "data": {
      "text/html": [
       "<div>\n",
       "<style scoped>\n",
       "    .dataframe tbody tr th:only-of-type {\n",
       "        vertical-align: middle;\n",
       "    }\n",
       "\n",
       "    .dataframe tbody tr th {\n",
       "        vertical-align: top;\n",
       "    }\n",
       "\n",
       "    .dataframe thead th {\n",
       "        text-align: right;\n",
       "    }\n",
       "</style>\n",
       "<table border=\"1\" class=\"dataframe\">\n",
       "  <thead>\n",
       "    <tr style=\"text-align: right;\">\n",
       "      <th></th>\n",
       "      <th>Entity</th>\n",
       "      <th>Code</th>\n",
       "      <th>Year</th>\n",
       "      <th>Oil Consumption - EJ</th>\n",
       "      <th>Gas Consumption - EJ</th>\n",
       "      <th>Coal Consumption - EJ</th>\n",
       "      <th>Solar Consumption - EJ</th>\n",
       "      <th>Hydro Consumption - EJ</th>\n",
       "      <th>Nuclear Consumption - EJ</th>\n",
       "      <th>Wind Consumption - EJ</th>\n",
       "      <th>Geo Biomass Other - EJ</th>\n",
       "    </tr>\n",
       "  </thead>\n",
       "  <tbody>\n",
       "    <tr>\n",
       "      <th>0</th>\n",
       "      <td>Algeria</td>\n",
       "      <td>DZA</td>\n",
       "      <td>1965</td>\n",
       "      <td>15.405264</td>\n",
       "      <td>7.430506</td>\n",
       "      <td>0.814101</td>\n",
       "      <td>0.0</td>\n",
       "      <td>1.111112</td>\n",
       "      <td>0.0</td>\n",
       "      <td>0.0</td>\n",
       "      <td>0.0</td>\n",
       "    </tr>\n",
       "    <tr>\n",
       "      <th>1</th>\n",
       "      <td>Algeria</td>\n",
       "      <td>DZA</td>\n",
       "      <td>1966</td>\n",
       "      <td>20.272721</td>\n",
       "      <td>7.719256</td>\n",
       "      <td>0.790841</td>\n",
       "      <td>0.0</td>\n",
       "      <td>0.986112</td>\n",
       "      <td>0.0</td>\n",
       "      <td>0.0</td>\n",
       "      <td>0.0</td>\n",
       "    </tr>\n",
       "    <tr>\n",
       "      <th>2</th>\n",
       "      <td>Algeria</td>\n",
       "      <td>DZA</td>\n",
       "      <td>1967</td>\n",
       "      <td>18.942046</td>\n",
       "      <td>7.488256</td>\n",
       "      <td>0.604760</td>\n",
       "      <td>0.0</td>\n",
       "      <td>1.138890</td>\n",
       "      <td>0.0</td>\n",
       "      <td>0.0</td>\n",
       "      <td>0.0</td>\n",
       "    </tr>\n",
       "    <tr>\n",
       "      <th>3</th>\n",
       "      <td>Algeria</td>\n",
       "      <td>DZA</td>\n",
       "      <td>1968</td>\n",
       "      <td>20.167318</td>\n",
       "      <td>7.873256</td>\n",
       "      <td>0.639651</td>\n",
       "      <td>0.0</td>\n",
       "      <td>1.563890</td>\n",
       "      <td>0.0</td>\n",
       "      <td>0.0</td>\n",
       "      <td>0.0</td>\n",
       "    </tr>\n",
       "    <tr>\n",
       "      <th>4</th>\n",
       "      <td>Algeria</td>\n",
       "      <td>DZA</td>\n",
       "      <td>1969</td>\n",
       "      <td>21.305947</td>\n",
       "      <td>10.351696</td>\n",
       "      <td>0.814101</td>\n",
       "      <td>0.0</td>\n",
       "      <td>1.002779</td>\n",
       "      <td>0.0</td>\n",
       "      <td>0.0</td>\n",
       "      <td>0.0</td>\n",
       "    </tr>\n",
       "  </tbody>\n",
       "</table>\n",
       "</div>"
      ],
      "text/plain": [
       "    Entity Code  Year  Oil Consumption - EJ  Gas Consumption - EJ  \\\n",
       "0  Algeria  DZA  1965             15.405264              7.430506   \n",
       "1  Algeria  DZA  1966             20.272721              7.719256   \n",
       "2  Algeria  DZA  1967             18.942046              7.488256   \n",
       "3  Algeria  DZA  1968             20.167318              7.873256   \n",
       "4  Algeria  DZA  1969             21.305947             10.351696   \n",
       "\n",
       "   Coal Consumption - EJ  Solar Consumption - EJ  Hydro Consumption - EJ  \\\n",
       "0               0.814101                     0.0                1.111112   \n",
       "1               0.790841                     0.0                0.986112   \n",
       "2               0.604760                     0.0                1.138890   \n",
       "3               0.639651                     0.0                1.563890   \n",
       "4               0.814101                     0.0                1.002779   \n",
       "\n",
       "   Nuclear Consumption - EJ  Wind Consumption - EJ  Geo Biomass Other - EJ  \n",
       "0                       0.0                    0.0                     0.0  \n",
       "1                       0.0                    0.0                     0.0  \n",
       "2                       0.0                    0.0                     0.0  \n",
       "3                       0.0                    0.0                     0.0  \n",
       "4                       0.0                    0.0                     0.0  "
      ]
     },
     "execution_count": 3,
     "metadata": {},
     "output_type": "execute_result"
    }
   ],
   "source": [
    "energy_consumption_df = pd.read_csv(\"energy-consumption-by-source-and-region.csv\")\n",
    "energy_consumption_df.head()"
   ]
  },
  {
   "cell_type": "markdown",
   "id": "88ad73e1",
   "metadata": {
    "id": "88ad73e1"
   },
   "source": [
    "#### Data Cleaning"
   ]
  },
  {
   "cell_type": "code",
   "execution_count": 4,
   "id": "ea137874",
   "metadata": {
    "colab": {
     "base_uri": "https://localhost:8080/"
    },
    "id": "ea137874",
    "outputId": "7d7ee3af-9ce2-419d-df34-feb01496a4d2",
    "scrolled": true
   },
   "outputs": [
    {
     "name": "stdout",
     "output_type": "stream",
     "text": [
      "Here is some Basic Ground Info about your Data:\n",
      "\n",
      "Number of Instances: 5515\n",
      "Number of Features: 11\n",
      "\n",
      "Summary Stats:\n",
      "              Year  Oil Consumption - EJ  Gas Consumption - EJ  \\\n",
      "count  5515.000000           4139.000000           4145.000000   \n",
      "mean   1993.522393           1011.463696            548.258342   \n",
      "std      16.979473           4680.229995           2697.775400   \n",
      "min    1900.000000              0.571998              0.000000   \n",
      "25%    1981.000000             63.741789              8.403757   \n",
      "50%    1995.000000            142.531989             51.675541   \n",
      "75%    2007.500000            413.589372            223.762679   \n",
      "max    2019.000000          53619.924660          39292.467570   \n",
      "\n",
      "       Coal Consumption - EJ  Solar Consumption - EJ  Hydro Consumption - EJ  \\\n",
      "count            4145.000000             4145.000000             4145.000000   \n",
      "mean              737.574797                3.540386              162.425080   \n",
      "std              3686.446745               47.121578              792.287738   \n",
      "min                 0.000000                0.000000                0.000000   \n",
      "25%                 2.916669                0.000000                1.138297   \n",
      "50%                31.854595                0.000000               12.380565   \n",
      "75%               161.238449                0.006497               61.380605   \n",
      "max             44993.467100             1792.996379            10455.126740   \n",
      "\n",
      "       Nuclear Consumption - EJ  Wind Consumption - EJ  Geo Biomass Other - EJ  \n",
      "count               4145.000000            4145.000000             4145.000000  \n",
      "mean                 120.624554              11.684124               12.864392  \n",
      "std                  642.226313             119.280802               78.568993  \n",
      "min                    0.000000               0.000000                0.000000  \n",
      "25%                    0.000000               0.000000                0.000000  \n",
      "50%                    0.000000               0.000000                0.063889  \n",
      "75%                   21.301450               0.101389                3.102351  \n",
      "max                 7493.281090            3540.051401             1614.026957  \n",
      "\n",
      "Missing Values:\n",
      "Entity                         0\n",
      "Code                           0\n",
      "Year                           0\n",
      "Oil Consumption - EJ        1376\n",
      "Gas Consumption - EJ        1370\n",
      "Coal Consumption - EJ       1370\n",
      "Solar Consumption - EJ      1370\n",
      "Hydro Consumption - EJ      1370\n",
      "Nuclear Consumption - EJ    1370\n",
      "Wind Consumption - EJ       1370\n",
      "Geo Biomass Other - EJ      1370\n",
      "dtype: int64\n"
     ]
    }
   ],
   "source": [
    "# Understanding the basic ground information of my data\n",
    "def all_about_my_data(df):\n",
    "    print(\"Here is some Basic Ground Info about your Data:\\n\")\n",
    "    \n",
    "    # Shape of the dataframe\n",
    "    print(\"Number of Instances:\",df.shape[0])\n",
    "    print(\"Number of Features:\",df.shape[1])\n",
    "    \n",
    "    # Summary Stats\n",
    "    print(\"\\nSummary Stats:\")\n",
    "    print(df.describe())\n",
    "    \n",
    "    # Missing Value Inspection\n",
    "    print(\"\\nMissing Values:\")\n",
    "    print(df.isna().sum())\n",
    "\n",
    "all_about_my_data(energy_consumption_df)"
   ]
  },
  {
   "cell_type": "code",
   "execution_count": 5,
   "id": "b78764fe",
   "metadata": {
    "colab": {
     "base_uri": "https://localhost:8080/",
     "height": 206
    },
    "id": "b78764fe",
    "outputId": "e1472be3-018e-41ad-96a8-587d6f9b01ac"
   },
   "outputs": [
    {
     "data": {
      "text/html": [
       "<div>\n",
       "<style scoped>\n",
       "    .dataframe tbody tr th:only-of-type {\n",
       "        vertical-align: middle;\n",
       "    }\n",
       "\n",
       "    .dataframe tbody tr th {\n",
       "        vertical-align: top;\n",
       "    }\n",
       "\n",
       "    .dataframe thead th {\n",
       "        text-align: right;\n",
       "    }\n",
       "</style>\n",
       "<table border=\"1\" class=\"dataframe\">\n",
       "  <thead>\n",
       "    <tr style=\"text-align: right;\">\n",
       "      <th></th>\n",
       "      <th>Entity</th>\n",
       "      <th>Year</th>\n",
       "      <th>Oil Consumption - EJ</th>\n",
       "      <th>Gas Consumption - EJ</th>\n",
       "      <th>Coal Consumption - EJ</th>\n",
       "      <th>Solar Consumption - EJ</th>\n",
       "      <th>Hydro Consumption - EJ</th>\n",
       "      <th>Nuclear Consumption - EJ</th>\n",
       "      <th>Wind Consumption - EJ</th>\n",
       "      <th>Geo Biomass Other - EJ</th>\n",
       "    </tr>\n",
       "  </thead>\n",
       "  <tbody>\n",
       "    <tr>\n",
       "      <th>0</th>\n",
       "      <td>Algeria</td>\n",
       "      <td>1965</td>\n",
       "      <td>15.405264</td>\n",
       "      <td>7.430506</td>\n",
       "      <td>0.814101</td>\n",
       "      <td>0.0</td>\n",
       "      <td>1.111112</td>\n",
       "      <td>0.0</td>\n",
       "      <td>0.0</td>\n",
       "      <td>0.0</td>\n",
       "    </tr>\n",
       "    <tr>\n",
       "      <th>1</th>\n",
       "      <td>Algeria</td>\n",
       "      <td>1966</td>\n",
       "      <td>20.272721</td>\n",
       "      <td>7.719256</td>\n",
       "      <td>0.790841</td>\n",
       "      <td>0.0</td>\n",
       "      <td>0.986112</td>\n",
       "      <td>0.0</td>\n",
       "      <td>0.0</td>\n",
       "      <td>0.0</td>\n",
       "    </tr>\n",
       "    <tr>\n",
       "      <th>2</th>\n",
       "      <td>Algeria</td>\n",
       "      <td>1967</td>\n",
       "      <td>18.942046</td>\n",
       "      <td>7.488256</td>\n",
       "      <td>0.604760</td>\n",
       "      <td>0.0</td>\n",
       "      <td>1.138890</td>\n",
       "      <td>0.0</td>\n",
       "      <td>0.0</td>\n",
       "      <td>0.0</td>\n",
       "    </tr>\n",
       "    <tr>\n",
       "      <th>3</th>\n",
       "      <td>Algeria</td>\n",
       "      <td>1968</td>\n",
       "      <td>20.167318</td>\n",
       "      <td>7.873256</td>\n",
       "      <td>0.639651</td>\n",
       "      <td>0.0</td>\n",
       "      <td>1.563890</td>\n",
       "      <td>0.0</td>\n",
       "      <td>0.0</td>\n",
       "      <td>0.0</td>\n",
       "    </tr>\n",
       "    <tr>\n",
       "      <th>4</th>\n",
       "      <td>Algeria</td>\n",
       "      <td>1969</td>\n",
       "      <td>21.305947</td>\n",
       "      <td>10.351696</td>\n",
       "      <td>0.814101</td>\n",
       "      <td>0.0</td>\n",
       "      <td>1.002779</td>\n",
       "      <td>0.0</td>\n",
       "      <td>0.0</td>\n",
       "      <td>0.0</td>\n",
       "    </tr>\n",
       "  </tbody>\n",
       "</table>\n",
       "</div>"
      ],
      "text/plain": [
       "    Entity  Year  Oil Consumption - EJ  Gas Consumption - EJ  \\\n",
       "0  Algeria  1965             15.405264              7.430506   \n",
       "1  Algeria  1966             20.272721              7.719256   \n",
       "2  Algeria  1967             18.942046              7.488256   \n",
       "3  Algeria  1968             20.167318              7.873256   \n",
       "4  Algeria  1969             21.305947             10.351696   \n",
       "\n",
       "   Coal Consumption - EJ  Solar Consumption - EJ  Hydro Consumption - EJ  \\\n",
       "0               0.814101                     0.0                1.111112   \n",
       "1               0.790841                     0.0                0.986112   \n",
       "2               0.604760                     0.0                1.138890   \n",
       "3               0.639651                     0.0                1.563890   \n",
       "4               0.814101                     0.0                1.002779   \n",
       "\n",
       "   Nuclear Consumption - EJ  Wind Consumption - EJ  Geo Biomass Other - EJ  \n",
       "0                       0.0                    0.0                     0.0  \n",
       "1                       0.0                    0.0                     0.0  \n",
       "2                       0.0                    0.0                     0.0  \n",
       "3                       0.0                    0.0                     0.0  \n",
       "4                       0.0                    0.0                     0.0  "
      ]
     },
     "execution_count": 5,
     "metadata": {},
     "output_type": "execute_result"
    }
   ],
   "source": [
    "energy_consumption_df = energy_consumption_df.drop(['Code'], axis = 1)\n",
    "energy_consumption_df.head()"
   ]
  },
  {
   "cell_type": "code",
   "execution_count": 6,
   "id": "8ef07fa2",
   "metadata": {
    "colab": {
     "base_uri": "https://localhost:8080/"
    },
    "id": "8ef07fa2",
    "outputId": "b9988f85-ba70-4e04-9a47-a4daad3069a2"
   },
   "outputs": [
    {
     "data": {
      "text/plain": [
       "Entity                       object\n",
       "Year                          int64\n",
       "Oil Consumption - EJ        float64\n",
       "Gas Consumption - EJ        float64\n",
       "Coal Consumption - EJ       float64\n",
       "Solar Consumption - EJ      float64\n",
       "Hydro Consumption - EJ      float64\n",
       "Nuclear Consumption - EJ    float64\n",
       "Wind Consumption - EJ       float64\n",
       "Geo Biomass Other - EJ      float64\n",
       "dtype: object"
      ]
     },
     "execution_count": 6,
     "metadata": {},
     "output_type": "execute_result"
    }
   ],
   "source": [
    "energy_consumption_df.dtypes"
   ]
  },
  {
   "cell_type": "code",
   "execution_count": 7,
   "id": "9a6e4443",
   "metadata": {
    "colab": {
     "base_uri": "https://localhost:8080/"
    },
    "id": "9a6e4443",
    "outputId": "b63ef9b0-e428-4eaf-d326-17931f293aba"
   },
   "outputs": [
    {
     "name": "stderr",
     "output_type": "stream",
     "text": [
      "<ipython-input-7-400a7d8d86c7>:1: FutureWarning: The default value of regex will change from True to False in a future version.\n",
      "  cols = energy_consumption_df.columns.str.replace('-.*',\"\")\n",
      "<ipython-input-7-400a7d8d86c7>:3: FutureWarning: The default value of regex will change from True to False in a future version.\n",
      "  cols = cols.str.replace(\"_$\",\"\")\n"
     ]
    },
    {
     "data": {
      "text/plain": [
       "['entity',\n",
       " 'year',\n",
       " 'oil_consumption',\n",
       " 'gas_consumption',\n",
       " 'coal_consumption',\n",
       " 'solar_consumption',\n",
       " 'hydro_consumption',\n",
       " 'nuclear_consumption',\n",
       " 'wind_consumption',\n",
       " 'geo_biomass_other']"
      ]
     },
     "execution_count": 7,
     "metadata": {},
     "output_type": "execute_result"
    }
   ],
   "source": [
    "cols = energy_consumption_df.columns.str.replace('-.*',\"\")\n",
    "cols = cols.str.replace(\" \",\"_\")\n",
    "cols = cols.str.replace(\"_$\",\"\")\n",
    "cols = list(cols.str.casefold())\n",
    "cols"
   ]
  },
  {
   "cell_type": "code",
   "execution_count": 8,
   "id": "d0445bbd",
   "metadata": {
    "colab": {
     "base_uri": "https://localhost:8080/"
    },
    "id": "d0445bbd",
    "outputId": "2119f943-663b-44e3-f8df-dee5327768c1"
   },
   "outputs": [
    {
     "data": {
      "text/plain": [
       "['country',\n",
       " 'year',\n",
       " 'oil_consumption',\n",
       " 'gas_consumption',\n",
       " 'coal_consumption',\n",
       " 'solar_consumption',\n",
       " 'hydro_consumption',\n",
       " 'nuclear_consumption',\n",
       " 'wind_consumption',\n",
       " 'geo_biomass_other']"
      ]
     },
     "execution_count": 8,
     "metadata": {},
     "output_type": "execute_result"
    }
   ],
   "source": [
    "cols[0] = 'country'\n",
    "cols"
   ]
  },
  {
   "cell_type": "code",
   "execution_count": 9,
   "id": "7b78f541",
   "metadata": {
    "colab": {
     "base_uri": "https://localhost:8080/",
     "height": 206
    },
    "id": "7b78f541",
    "outputId": "553b19b1-e5f3-4625-fa73-b268cb5a10db"
   },
   "outputs": [
    {
     "data": {
      "text/html": [
       "<div>\n",
       "<style scoped>\n",
       "    .dataframe tbody tr th:only-of-type {\n",
       "        vertical-align: middle;\n",
       "    }\n",
       "\n",
       "    .dataframe tbody tr th {\n",
       "        vertical-align: top;\n",
       "    }\n",
       "\n",
       "    .dataframe thead th {\n",
       "        text-align: right;\n",
       "    }\n",
       "</style>\n",
       "<table border=\"1\" class=\"dataframe\">\n",
       "  <thead>\n",
       "    <tr style=\"text-align: right;\">\n",
       "      <th></th>\n",
       "      <th>country</th>\n",
       "      <th>year</th>\n",
       "      <th>oil_consumption</th>\n",
       "      <th>gas_consumption</th>\n",
       "      <th>coal_consumption</th>\n",
       "      <th>solar_consumption</th>\n",
       "      <th>hydro_consumption</th>\n",
       "      <th>nuclear_consumption</th>\n",
       "      <th>wind_consumption</th>\n",
       "      <th>geo_biomass_other</th>\n",
       "    </tr>\n",
       "  </thead>\n",
       "  <tbody>\n",
       "    <tr>\n",
       "      <th>0</th>\n",
       "      <td>Algeria</td>\n",
       "      <td>1965</td>\n",
       "      <td>15.405264</td>\n",
       "      <td>7.430506</td>\n",
       "      <td>0.814101</td>\n",
       "      <td>0.0</td>\n",
       "      <td>1.111112</td>\n",
       "      <td>0.0</td>\n",
       "      <td>0.0</td>\n",
       "      <td>0.0</td>\n",
       "    </tr>\n",
       "    <tr>\n",
       "      <th>1</th>\n",
       "      <td>Algeria</td>\n",
       "      <td>1966</td>\n",
       "      <td>20.272721</td>\n",
       "      <td>7.719256</td>\n",
       "      <td>0.790841</td>\n",
       "      <td>0.0</td>\n",
       "      <td>0.986112</td>\n",
       "      <td>0.0</td>\n",
       "      <td>0.0</td>\n",
       "      <td>0.0</td>\n",
       "    </tr>\n",
       "    <tr>\n",
       "      <th>2</th>\n",
       "      <td>Algeria</td>\n",
       "      <td>1967</td>\n",
       "      <td>18.942046</td>\n",
       "      <td>7.488256</td>\n",
       "      <td>0.604760</td>\n",
       "      <td>0.0</td>\n",
       "      <td>1.138890</td>\n",
       "      <td>0.0</td>\n",
       "      <td>0.0</td>\n",
       "      <td>0.0</td>\n",
       "    </tr>\n",
       "    <tr>\n",
       "      <th>3</th>\n",
       "      <td>Algeria</td>\n",
       "      <td>1968</td>\n",
       "      <td>20.167318</td>\n",
       "      <td>7.873256</td>\n",
       "      <td>0.639651</td>\n",
       "      <td>0.0</td>\n",
       "      <td>1.563890</td>\n",
       "      <td>0.0</td>\n",
       "      <td>0.0</td>\n",
       "      <td>0.0</td>\n",
       "    </tr>\n",
       "    <tr>\n",
       "      <th>4</th>\n",
       "      <td>Algeria</td>\n",
       "      <td>1969</td>\n",
       "      <td>21.305947</td>\n",
       "      <td>10.351696</td>\n",
       "      <td>0.814101</td>\n",
       "      <td>0.0</td>\n",
       "      <td>1.002779</td>\n",
       "      <td>0.0</td>\n",
       "      <td>0.0</td>\n",
       "      <td>0.0</td>\n",
       "    </tr>\n",
       "  </tbody>\n",
       "</table>\n",
       "</div>"
      ],
      "text/plain": [
       "   country  year  oil_consumption  gas_consumption  coal_consumption  \\\n",
       "0  Algeria  1965        15.405264         7.430506          0.814101   \n",
       "1  Algeria  1966        20.272721         7.719256          0.790841   \n",
       "2  Algeria  1967        18.942046         7.488256          0.604760   \n",
       "3  Algeria  1968        20.167318         7.873256          0.639651   \n",
       "4  Algeria  1969        21.305947        10.351696          0.814101   \n",
       "\n",
       "   solar_consumption  hydro_consumption  nuclear_consumption  \\\n",
       "0                0.0           1.111112                  0.0   \n",
       "1                0.0           0.986112                  0.0   \n",
       "2                0.0           1.138890                  0.0   \n",
       "3                0.0           1.563890                  0.0   \n",
       "4                0.0           1.002779                  0.0   \n",
       "\n",
       "   wind_consumption  geo_biomass_other  \n",
       "0               0.0                0.0  \n",
       "1               0.0                0.0  \n",
       "2               0.0                0.0  \n",
       "3               0.0                0.0  \n",
       "4               0.0                0.0  "
      ]
     },
     "execution_count": 9,
     "metadata": {},
     "output_type": "execute_result"
    }
   ],
   "source": [
    "# Re-assigning feature names\n",
    "energy_consumption_df=energy_consumption_df.rename(columns=dict(zip(energy_consumption_df.columns,cols)))\n",
    "energy_consumption_df.head()"
   ]
  },
  {
   "cell_type": "code",
   "execution_count": 10,
   "id": "7781f7df",
   "metadata": {
    "colab": {
     "base_uri": "https://localhost:8080/",
     "height": 206
    },
    "id": "7781f7df",
    "outputId": "4f943dcd-bbfe-42e9-bba2-67c29234fa38"
   },
   "outputs": [
    {
     "data": {
      "text/html": [
       "<div>\n",
       "<style scoped>\n",
       "    .dataframe tbody tr th:only-of-type {\n",
       "        vertical-align: middle;\n",
       "    }\n",
       "\n",
       "    .dataframe tbody tr th {\n",
       "        vertical-align: top;\n",
       "    }\n",
       "\n",
       "    .dataframe thead th {\n",
       "        text-align: right;\n",
       "    }\n",
       "</style>\n",
       "<table border=\"1\" class=\"dataframe\">\n",
       "  <thead>\n",
       "    <tr style=\"text-align: right;\">\n",
       "      <th></th>\n",
       "      <th>country</th>\n",
       "      <th>year</th>\n",
       "      <th>oil_consumption</th>\n",
       "      <th>gas_consumption</th>\n",
       "      <th>coal_consumption</th>\n",
       "      <th>solar_consumption</th>\n",
       "      <th>hydro_consumption</th>\n",
       "      <th>nuclear_consumption</th>\n",
       "      <th>wind_consumption</th>\n",
       "      <th>geo_biomass_other</th>\n",
       "    </tr>\n",
       "  </thead>\n",
       "  <tbody>\n",
       "    <tr>\n",
       "      <th>0</th>\n",
       "      <td>Algeria</td>\n",
       "      <td>1965</td>\n",
       "      <td>15.405264</td>\n",
       "      <td>7.430506</td>\n",
       "      <td>0.814101</td>\n",
       "      <td>0.0</td>\n",
       "      <td>1.111112</td>\n",
       "      <td>0.0</td>\n",
       "      <td>0.0</td>\n",
       "      <td>0.0</td>\n",
       "    </tr>\n",
       "    <tr>\n",
       "      <th>1</th>\n",
       "      <td>Algeria</td>\n",
       "      <td>1966</td>\n",
       "      <td>20.272721</td>\n",
       "      <td>7.719256</td>\n",
       "      <td>0.790841</td>\n",
       "      <td>0.0</td>\n",
       "      <td>0.986112</td>\n",
       "      <td>0.0</td>\n",
       "      <td>0.0</td>\n",
       "      <td>0.0</td>\n",
       "    </tr>\n",
       "    <tr>\n",
       "      <th>2</th>\n",
       "      <td>Algeria</td>\n",
       "      <td>1967</td>\n",
       "      <td>18.942046</td>\n",
       "      <td>7.488256</td>\n",
       "      <td>0.604760</td>\n",
       "      <td>0.0</td>\n",
       "      <td>1.138890</td>\n",
       "      <td>0.0</td>\n",
       "      <td>0.0</td>\n",
       "      <td>0.0</td>\n",
       "    </tr>\n",
       "    <tr>\n",
       "      <th>3</th>\n",
       "      <td>Algeria</td>\n",
       "      <td>1968</td>\n",
       "      <td>20.167318</td>\n",
       "      <td>7.873256</td>\n",
       "      <td>0.639651</td>\n",
       "      <td>0.0</td>\n",
       "      <td>1.563890</td>\n",
       "      <td>0.0</td>\n",
       "      <td>0.0</td>\n",
       "      <td>0.0</td>\n",
       "    </tr>\n",
       "    <tr>\n",
       "      <th>4</th>\n",
       "      <td>Algeria</td>\n",
       "      <td>1969</td>\n",
       "      <td>21.305947</td>\n",
       "      <td>10.351696</td>\n",
       "      <td>0.814101</td>\n",
       "      <td>0.0</td>\n",
       "      <td>1.002779</td>\n",
       "      <td>0.0</td>\n",
       "      <td>0.0</td>\n",
       "      <td>0.0</td>\n",
       "    </tr>\n",
       "  </tbody>\n",
       "</table>\n",
       "</div>"
      ],
      "text/plain": [
       "   country  year  oil_consumption  gas_consumption  coal_consumption  \\\n",
       "0  Algeria  1965        15.405264         7.430506          0.814101   \n",
       "1  Algeria  1966        20.272721         7.719256          0.790841   \n",
       "2  Algeria  1967        18.942046         7.488256          0.604760   \n",
       "3  Algeria  1968        20.167318         7.873256          0.639651   \n",
       "4  Algeria  1969        21.305947        10.351696          0.814101   \n",
       "\n",
       "   solar_consumption  hydro_consumption  nuclear_consumption  \\\n",
       "0                0.0           1.111112                  0.0   \n",
       "1                0.0           0.986112                  0.0   \n",
       "2                0.0           1.138890                  0.0   \n",
       "3                0.0           1.563890                  0.0   \n",
       "4                0.0           1.002779                  0.0   \n",
       "\n",
       "   wind_consumption  geo_biomass_other  \n",
       "0               0.0                0.0  \n",
       "1               0.0                0.0  \n",
       "2               0.0                0.0  \n",
       "3               0.0                0.0  \n",
       "4               0.0                0.0  "
      ]
     },
     "execution_count": 10,
     "metadata": {},
     "output_type": "execute_result"
    }
   ],
   "source": [
    "# dropping years before 1965\n",
    "energy_consumption_df = energy_consumption_df[energy_consumption_df['year'] >= 1965]\n",
    "energy_consumption_df.head()"
   ]
  },
  {
   "cell_type": "code",
   "execution_count": 11,
   "id": "4b0666f8",
   "metadata": {
    "colab": {
     "base_uri": "https://localhost:8080/",
     "height": 206
    },
    "id": "4b0666f8",
    "outputId": "dda46b1e-92fe-4af5-e26b-1fe01f318c04"
   },
   "outputs": [
    {
     "data": {
      "text/html": [
       "<div>\n",
       "<style scoped>\n",
       "    .dataframe tbody tr th:only-of-type {\n",
       "        vertical-align: middle;\n",
       "    }\n",
       "\n",
       "    .dataframe tbody tr th {\n",
       "        vertical-align: top;\n",
       "    }\n",
       "\n",
       "    .dataframe thead th {\n",
       "        text-align: right;\n",
       "    }\n",
       "</style>\n",
       "<table border=\"1\" class=\"dataframe\">\n",
       "  <thead>\n",
       "    <tr style=\"text-align: right;\">\n",
       "      <th></th>\n",
       "      <th>country</th>\n",
       "      <th>year</th>\n",
       "      <th>oil_consumption</th>\n",
       "      <th>gas_consumption</th>\n",
       "      <th>coal_consumption</th>\n",
       "      <th>solar_consumption</th>\n",
       "      <th>hydro_consumption</th>\n",
       "      <th>nuclear_consumption</th>\n",
       "      <th>wind_consumption</th>\n",
       "      <th>geo_biomass_other</th>\n",
       "    </tr>\n",
       "  </thead>\n",
       "  <tbody>\n",
       "    <tr>\n",
       "      <th>0</th>\n",
       "      <td>Algeria</td>\n",
       "      <td>1965</td>\n",
       "      <td>15.405264</td>\n",
       "      <td>7.430506</td>\n",
       "      <td>0.814101</td>\n",
       "      <td>0.0</td>\n",
       "      <td>1.111112</td>\n",
       "      <td>0.0</td>\n",
       "      <td>0.0</td>\n",
       "      <td>0.0</td>\n",
       "    </tr>\n",
       "    <tr>\n",
       "      <th>1</th>\n",
       "      <td>Algeria</td>\n",
       "      <td>1966</td>\n",
       "      <td>20.272721</td>\n",
       "      <td>7.719256</td>\n",
       "      <td>0.790841</td>\n",
       "      <td>0.0</td>\n",
       "      <td>0.986112</td>\n",
       "      <td>0.0</td>\n",
       "      <td>0.0</td>\n",
       "      <td>0.0</td>\n",
       "    </tr>\n",
       "    <tr>\n",
       "      <th>2</th>\n",
       "      <td>Algeria</td>\n",
       "      <td>1967</td>\n",
       "      <td>18.942046</td>\n",
       "      <td>7.488256</td>\n",
       "      <td>0.604760</td>\n",
       "      <td>0.0</td>\n",
       "      <td>1.138890</td>\n",
       "      <td>0.0</td>\n",
       "      <td>0.0</td>\n",
       "      <td>0.0</td>\n",
       "    </tr>\n",
       "    <tr>\n",
       "      <th>3</th>\n",
       "      <td>Algeria</td>\n",
       "      <td>1968</td>\n",
       "      <td>20.167318</td>\n",
       "      <td>7.873256</td>\n",
       "      <td>0.639651</td>\n",
       "      <td>0.0</td>\n",
       "      <td>1.563890</td>\n",
       "      <td>0.0</td>\n",
       "      <td>0.0</td>\n",
       "      <td>0.0</td>\n",
       "    </tr>\n",
       "    <tr>\n",
       "      <th>4</th>\n",
       "      <td>Algeria</td>\n",
       "      <td>1969</td>\n",
       "      <td>21.305947</td>\n",
       "      <td>10.351696</td>\n",
       "      <td>0.814101</td>\n",
       "      <td>0.0</td>\n",
       "      <td>1.002779</td>\n",
       "      <td>0.0</td>\n",
       "      <td>0.0</td>\n",
       "      <td>0.0</td>\n",
       "    </tr>\n",
       "  </tbody>\n",
       "</table>\n",
       "</div>"
      ],
      "text/plain": [
       "   country  year  oil_consumption  gas_consumption  coal_consumption  \\\n",
       "0  Algeria  1965        15.405264         7.430506          0.814101   \n",
       "1  Algeria  1966        20.272721         7.719256          0.790841   \n",
       "2  Algeria  1967        18.942046         7.488256          0.604760   \n",
       "3  Algeria  1968        20.167318         7.873256          0.639651   \n",
       "4  Algeria  1969        21.305947        10.351696          0.814101   \n",
       "\n",
       "   solar_consumption  hydro_consumption  nuclear_consumption  \\\n",
       "0                0.0           1.111112                  0.0   \n",
       "1                0.0           0.986112                  0.0   \n",
       "2                0.0           1.138890                  0.0   \n",
       "3                0.0           1.563890                  0.0   \n",
       "4                0.0           1.002779                  0.0   \n",
       "\n",
       "   wind_consumption  geo_biomass_other  \n",
       "0               0.0                0.0  \n",
       "1               0.0                0.0  \n",
       "2               0.0                0.0  \n",
       "3               0.0                0.0  \n",
       "4               0.0                0.0  "
      ]
     },
     "execution_count": 11,
     "metadata": {},
     "output_type": "execute_result"
    }
   ],
   "source": [
    "# fill NaN with 0\n",
    "energy_consumption_df = energy_consumption_df.fillna(0)\n",
    "og_df = energy_consumption_df.copy()\n",
    "energy_consumption_df.head()"
   ]
  },
  {
   "cell_type": "code",
   "execution_count": 12,
   "id": "53c6bad5",
   "metadata": {
    "colab": {
     "base_uri": "https://localhost:8080/"
    },
    "id": "53c6bad5",
    "outputId": "b54ca444-508e-4edb-945a-2191bce0695f",
    "scrolled": true
   },
   "outputs": [
    {
     "name": "stdout",
     "output_type": "stream",
     "text": [
      "Here is some Basic Ground Info about your Data:\n",
      "\n",
      "Number of Instances: 5450\n",
      "Number of Features: 10\n",
      "\n",
      "Summary Stats:\n",
      "              year  oil_consumption  gas_consumption  coal_consumption  \\\n",
      "count  5450.000000      5450.000000      5450.000000       5450.000000   \n",
      "mean   1994.256147       768.155640       416.978134        560.962850   \n",
      "std      15.551644      4101.386149      2364.257058       3230.215241   \n",
      "min    1965.000000         0.000000         0.000000          0.000000   \n",
      "25%    1981.000000         6.619957         0.000000          0.000000   \n",
      "50%    1995.000000        92.455329        20.846689         10.324600   \n",
      "75%    2008.000000       276.772243       135.904711         92.521284   \n",
      "max    2019.000000     53619.924660     39292.467570      44993.467100   \n",
      "\n",
      "       solar_consumption  hydro_consumption  nuclear_consumption  \\\n",
      "count        5450.000000        5450.000000          5450.000000   \n",
      "mean            2.692642         123.532469            91.741060   \n",
      "std            41.121096         694.399327           562.427531   \n",
      "min             0.000000           0.000000             0.000000   \n",
      "25%             0.000000           0.000000             0.000000   \n",
      "50%             0.000000           4.241670             0.000000   \n",
      "75%             0.000000          36.237946             1.212392   \n",
      "max          1792.996379       10455.126740          7493.281090   \n",
      "\n",
      "       wind_consumption  geo_biomass_other  \n",
      "count       5450.000000        5450.000000  \n",
      "mean           8.886366           9.784019  \n",
      "std          104.140696          68.737301  \n",
      "min            0.000000           0.000000  \n",
      "25%            0.000000           0.000000  \n",
      "50%            0.000000           0.000000  \n",
      "75%            0.007027           1.169365  \n",
      "max         3540.051401        1614.026957  \n",
      "\n",
      "Missing Values:\n",
      "country                0\n",
      "year                   0\n",
      "oil_consumption        0\n",
      "gas_consumption        0\n",
      "coal_consumption       0\n",
      "solar_consumption      0\n",
      "hydro_consumption      0\n",
      "nuclear_consumption    0\n",
      "wind_consumption       0\n",
      "geo_biomass_other      0\n",
      "dtype: int64\n"
     ]
    }
   ],
   "source": [
    "all_about_my_data(energy_consumption_df)"
   ]
  },
  {
   "cell_type": "markdown",
   "id": "f2a62b9e",
   "metadata": {
    "id": "f2a62b9e"
   },
   "source": [
    "### 1. Global energy consumption from 1965 to 2019"
   ]
  },
  {
   "cell_type": "code",
   "execution_count": 13,
   "id": "7f4cb71d",
   "metadata": {
    "colab": {
     "base_uri": "https://localhost:8080/",
     "height": 206
    },
    "id": "7f4cb71d",
    "outputId": "711a5bd0-e30a-41c2-8cf3-42b977a61e3f"
   },
   "outputs": [
    {
     "data": {
      "text/html": [
       "<div>\n",
       "<style scoped>\n",
       "    .dataframe tbody tr th:only-of-type {\n",
       "        vertical-align: middle;\n",
       "    }\n",
       "\n",
       "    .dataframe tbody tr th {\n",
       "        vertical-align: top;\n",
       "    }\n",
       "\n",
       "    .dataframe thead th {\n",
       "        text-align: right;\n",
       "    }\n",
       "</style>\n",
       "<table border=\"1\" class=\"dataframe\">\n",
       "  <thead>\n",
       "    <tr style=\"text-align: right;\">\n",
       "      <th></th>\n",
       "      <th>country</th>\n",
       "      <th>year</th>\n",
       "      <th>oil_consumption</th>\n",
       "      <th>gas_consumption</th>\n",
       "      <th>coal_consumption</th>\n",
       "      <th>solar_consumption</th>\n",
       "      <th>hydro_consumption</th>\n",
       "      <th>nuclear_consumption</th>\n",
       "      <th>wind_consumption</th>\n",
       "      <th>geo_biomass_other</th>\n",
       "    </tr>\n",
       "  </thead>\n",
       "  <tbody>\n",
       "    <tr>\n",
       "      <th>5281</th>\n",
       "      <td>World</td>\n",
       "      <td>1965</td>\n",
       "      <td>18108.64332</td>\n",
       "      <td>6303.803972</td>\n",
       "      <td>16140.19120</td>\n",
       "      <td>0.0</td>\n",
       "      <td>2564.440729</td>\n",
       "      <td>70.943735</td>\n",
       "      <td>0.0</td>\n",
       "      <td>49.959018</td>\n",
       "    </tr>\n",
       "    <tr>\n",
       "      <th>5282</th>\n",
       "      <td>World</td>\n",
       "      <td>1966</td>\n",
       "      <td>19496.47113</td>\n",
       "      <td>6868.800021</td>\n",
       "      <td>16324.10691</td>\n",
       "      <td>0.0</td>\n",
       "      <td>2732.827289</td>\n",
       "      <td>95.648105</td>\n",
       "      <td>0.0</td>\n",
       "      <td>55.016730</td>\n",
       "    </tr>\n",
       "    <tr>\n",
       "      <th>5283</th>\n",
       "      <td>World</td>\n",
       "      <td>1967</td>\n",
       "      <td>20890.58046</td>\n",
       "      <td>7374.045272</td>\n",
       "      <td>16060.82258</td>\n",
       "      <td>0.0</td>\n",
       "      <td>2793.731823</td>\n",
       "      <td>113.905686</td>\n",
       "      <td>0.0</td>\n",
       "      <td>55.518296</td>\n",
       "    </tr>\n",
       "    <tr>\n",
       "      <th>5284</th>\n",
       "      <td>World</td>\n",
       "      <td>1968</td>\n",
       "      <td>22675.46603</td>\n",
       "      <td>8044.337930</td>\n",
       "      <td>16301.15972</td>\n",
       "      <td>0.0</td>\n",
       "      <td>2942.471820</td>\n",
       "      <td>144.758905</td>\n",
       "      <td>0.0</td>\n",
       "      <td>61.444619</td>\n",
       "    </tr>\n",
       "    <tr>\n",
       "      <th>5285</th>\n",
       "      <td>World</td>\n",
       "      <td>1969</td>\n",
       "      <td>24576.88446</td>\n",
       "      <td>8833.425133</td>\n",
       "      <td>16798.74928</td>\n",
       "      <td>0.0</td>\n",
       "      <td>3115.955885</td>\n",
       "      <td>171.620725</td>\n",
       "      <td>0.0</td>\n",
       "      <td>64.605508</td>\n",
       "    </tr>\n",
       "  </tbody>\n",
       "</table>\n",
       "</div>"
      ],
      "text/plain": [
       "     country  year  oil_consumption  gas_consumption  coal_consumption  \\\n",
       "5281   World  1965      18108.64332      6303.803972       16140.19120   \n",
       "5282   World  1966      19496.47113      6868.800021       16324.10691   \n",
       "5283   World  1967      20890.58046      7374.045272       16060.82258   \n",
       "5284   World  1968      22675.46603      8044.337930       16301.15972   \n",
       "5285   World  1969      24576.88446      8833.425133       16798.74928   \n",
       "\n",
       "      solar_consumption  hydro_consumption  nuclear_consumption  \\\n",
       "5281                0.0        2564.440729            70.943735   \n",
       "5282                0.0        2732.827289            95.648105   \n",
       "5283                0.0        2793.731823           113.905686   \n",
       "5284                0.0        2942.471820           144.758905   \n",
       "5285                0.0        3115.955885           171.620725   \n",
       "\n",
       "      wind_consumption  geo_biomass_other  \n",
       "5281               0.0          49.959018  \n",
       "5282               0.0          55.016730  \n",
       "5283               0.0          55.518296  \n",
       "5284               0.0          61.444619  \n",
       "5285               0.0          64.605508  "
      ]
     },
     "execution_count": 13,
     "metadata": {},
     "output_type": "execute_result"
    }
   ],
   "source": [
    "world_consumption_df = energy_consumption_df[energy_consumption_df['country'] == 'World']\n",
    "world_consumption_df.head()"
   ]
  },
  {
   "cell_type": "code",
   "execution_count": 14,
   "id": "fe01cea7",
   "metadata": {
    "colab": {
     "base_uri": "https://localhost:8080/",
     "height": 339
    },
    "id": "fe01cea7",
    "outputId": "3fa97752-9959-4c10-872c-28b2d0a12d9d"
   },
   "outputs": [
    {
     "data": {
      "text/plain": [
       "Text(0.5, 1.0, 'World energy consumption through different sources \\n')"
      ]
     },
     "execution_count": 14,
     "metadata": {},
     "output_type": "execute_result"
    },
    {
     "data": {
      "image/png": "[encoded data removed]",
      "text/plain": [
       "<Figure size 1080x288 with 1 Axes>"
      ]
     },
     "metadata": {
      "needs_background": "light"
     },
     "output_type": "display_data"
    }
   ],
   "source": [
    "world_consumption_df.set_index('year', inplace=True)\n",
    "world_consumption_df.plot(figsize = (15,4))\n",
    "plt.xlabel(\"\\nYear\")\n",
    "plt.ylabel(\"Energy (EJ)\")\n",
    "plt.title(\"World energy consumption through different sources \\n\")"
   ]
  },
  {
   "cell_type": "markdown",
   "id": "70c67aac",
   "metadata": {
    "id": "70c67aac"
   },
   "source": [
    "Oil, coal and gas continue to be the most used energy resource. \n",
    "\n",
    "A dip is noted for the non-renewable energy sources in the year 2009, when the economic crisis hit the world. The years before and after 2009 have shown a large growth in energy consumption."
   ]
  },
  {
   "cell_type": "markdown",
   "id": "5782be9d",
   "metadata": {
    "id": "5782be9d"
   },
   "source": [
    "### 2. Decrease in fossil energy consumption for the past 10 years (2009 to 2019)"
   ]
  },
  {
   "cell_type": "markdown",
   "id": "a0978f10",
   "metadata": {
    "id": "a0978f10"
   },
   "source": [
    "#####  Finding top decrease in consumption for each fossil fuel from 2009 to 2019\n",
    "Here we analyze the countries with the maximum deccrease in consumption for each of the resources. "
   ]
  },
  {
   "cell_type": "code",
   "execution_count": 15,
   "id": "056f85d2",
   "metadata": {
    "colab": {
     "base_uri": "https://localhost:8080/",
     "height": 206
    },
    "id": "056f85d2",
    "outputId": "5633bb43-3bda-4897-f10d-0d1ddf7eaf6e"
   },
   "outputs": [
    {
     "data": {
      "text/html": [
       "<div>\n",
       "<style scoped>\n",
       "    .dataframe tbody tr th:only-of-type {\n",
       "        vertical-align: middle;\n",
       "    }\n",
       "\n",
       "    .dataframe tbody tr th {\n",
       "        vertical-align: top;\n",
       "    }\n",
       "\n",
       "    .dataframe thead th {\n",
       "        text-align: right;\n",
       "    }\n",
       "</style>\n",
       "<table border=\"1\" class=\"dataframe\">\n",
       "  <thead>\n",
       "    <tr style=\"text-align: right;\">\n",
       "      <th></th>\n",
       "      <th>country</th>\n",
       "      <th>year</th>\n",
       "      <th>oil_consumption</th>\n",
       "      <th>gas_consumption</th>\n",
       "      <th>coal_consumption</th>\n",
       "    </tr>\n",
       "  </thead>\n",
       "  <tbody>\n",
       "    <tr>\n",
       "      <th>0</th>\n",
       "      <td>Algeria</td>\n",
       "      <td>1965</td>\n",
       "      <td>15.405264</td>\n",
       "      <td>7.430506</td>\n",
       "      <td>0.814101</td>\n",
       "    </tr>\n",
       "    <tr>\n",
       "      <th>1</th>\n",
       "      <td>Algeria</td>\n",
       "      <td>1966</td>\n",
       "      <td>20.272721</td>\n",
       "      <td>7.719256</td>\n",
       "      <td>0.790841</td>\n",
       "    </tr>\n",
       "    <tr>\n",
       "      <th>2</th>\n",
       "      <td>Algeria</td>\n",
       "      <td>1967</td>\n",
       "      <td>18.942046</td>\n",
       "      <td>7.488256</td>\n",
       "      <td>0.604760</td>\n",
       "    </tr>\n",
       "    <tr>\n",
       "      <th>3</th>\n",
       "      <td>Algeria</td>\n",
       "      <td>1968</td>\n",
       "      <td>20.167318</td>\n",
       "      <td>7.873256</td>\n",
       "      <td>0.639651</td>\n",
       "    </tr>\n",
       "    <tr>\n",
       "      <th>4</th>\n",
       "      <td>Algeria</td>\n",
       "      <td>1969</td>\n",
       "      <td>21.305947</td>\n",
       "      <td>10.351696</td>\n",
       "      <td>0.814101</td>\n",
       "    </tr>\n",
       "  </tbody>\n",
       "</table>\n",
       "</div>"
      ],
      "text/plain": [
       "   country  year  oil_consumption  gas_consumption  coal_consumption\n",
       "0  Algeria  1965        15.405264         7.430506          0.814101\n",
       "1  Algeria  1966        20.272721         7.719256          0.790841\n",
       "2  Algeria  1967        18.942046         7.488256          0.604760\n",
       "3  Algeria  1968        20.167318         7.873256          0.639651\n",
       "4  Algeria  1969        21.305947        10.351696          0.814101"
      ]
     },
     "execution_count": 15,
     "metadata": {},
     "output_type": "execute_result"
    }
   ],
   "source": [
    "# new df for only fossil fuels\n",
    "fossil_df = og_df[['country','year','oil_consumption', 'gas_consumption', 'coal_consumption']]\n",
    "fossil_df.head()"
   ]
  },
  {
   "cell_type": "code",
   "execution_count": 16,
   "id": "98b24415",
   "metadata": {
    "id": "98b24415"
   },
   "outputs": [],
   "source": [
    "# creating new df representing change\n",
    "keys = fossil_df.keys()\n",
    "keys = keys.drop('country')\n",
    "keys = keys.drop('year')\n",
    "country_list = []\n",
    "source_list = []\n",
    "value_list = []\n",
    "for country in fossil_df.country.unique():\n",
    "    country_df = fossil_df[fossil_df.country==country]\n",
    "    if country_df[country_df.year==2009].empty or country_df[country_df.year==2019].empty:\n",
    "        continue\n",
    "    for key in keys:\n",
    "        value_2009 = float(country_df[country_df.year==2009][key])\n",
    "        value_2019 = float(country_df[country_df.year==2019][key])\n",
    "        #check for 0 value and nan value\n",
    "        if value_2009!=0 and value_2009==value_2009:\n",
    "            # percentage increase from 2009 till 2019\n",
    "            per = ((value_2019-value_2009)/value_2009)*100\n",
    "            country_list.append(country)\n",
    "            source_list.append(key)\n",
    "            value_list.append(per)\n",
    "per_change_df = pd.DataFrame({'country':country_list,'source':source_list,'per_change_2009_2019':value_list})  \n",
    "# Droping the world data\n",
    "index_names = per_change_df[per_change_df['country'] == 'World'].index\n",
    "per_change_df.drop(index_names, inplace = True)"
   ]
  },
  {
   "cell_type": "code",
   "execution_count": 17,
   "id": "69788ec2",
   "metadata": {
    "colab": {
     "base_uri": "https://localhost:8080/",
     "height": 851
    },
    "id": "69788ec2",
    "outputId": "d65d2a25-ea3f-452d-c8d2-c05a822267f9"
   },
   "outputs": [
    {
     "data": {
      "image/png": "[encoded data removed]",
      "text/plain": [
       "<Figure size 1080x288 with 1 Axes>"
      ]
     },
     "metadata": {
      "needs_background": "light"
     },
     "output_type": "display_data"
    },
    {
     "data": {
      "image/png": "[encoded data removed]",
      "text/plain": [
       "<Figure size 1080x288 with 1 Axes>"
      ]
     },
     "metadata": {},
     "output_type": "display_data"
    },
    {
     "data": {
      "image/png": "[encoded data removed]",
      "text/plain": [
       "<Figure size 1080x288 with 1 Axes>"
      ]
     },
     "metadata": {},
     "output_type": "display_data"
    }
   ],
   "source": [
    "# plotting\n",
    "i = 0\n",
    "for key in keys:\n",
    "    per_change = per_change_df[per_change_df.source==key]\n",
    "    # Sort values in decreasing order [highest on top]\n",
    "    per_change = per_change.sort_values(by='per_change_2009_2019', ascending=True).head(3)\n",
    "    # Get values from the original data frame\n",
    "    df_top_change = og_df[og_df['country'].isin(list(per_change.country))]\n",
    "    df_top_change = df_top_change[['country','year',key]]\n",
    "    values = df_top_change[key]\n",
    "    # Calculating Percentage change in consumption and multiply with 100 to get % values\n",
    "    df_top_change['Percentage Change %'] = values.pct_change()*100\n",
    "    # Selecting only rows with year >= 2009\n",
    "    df_top_change = df_top_change[df_top_change.year>=2009]\n",
    "    plt.figure(i,figsize=(15,4))\n",
    "    sns.barplot(x='year',y='Percentage Change %',hue='country',data=df_top_change)\n",
    "    sns.set_style(\"whitegrid\")\n",
    "    # Creating title to show top nations that relatively reduced their consumption\n",
    "    title = ''\n",
    "    for i in range(len(list(per_change.country))):\n",
    "        title+= f'[{i+1}] {list(per_change.country)[i]} -> {round(list(per_change.per_change_2009_2019)[i],2)}%  '\n",
    "    plt.title(f'Top Decline in {key} from 2009 to 2019: {title}')\n",
    "    plt.ylim(-60,80)\n",
    "    plt.show()\n",
    "    i+=1"
   ]
  },
  {
   "cell_type": "markdown",
   "id": "4c863a94",
   "metadata": {
    "id": "4c863a94"
   },
   "source": [
    "The above plot gives us the countries with **maximum decrease** in consumption for all fossil fuels, in the past 10 years:\n",
    "1. **Oil:** Ukraine, Uzbekistan, Venezuela\n",
    "2. **Gas:** Finland, Luxembourg, Ukraine\n",
    "3. **Coal:** Denmark, United Kingdom, Venezuela"
   ]
  },
  {
   "cell_type": "markdown",
   "id": "98ae951a",
   "metadata": {
    "id": "98ae951a"
   },
   "source": [
    "### 3. Most promising environmental friendly energy resource"
   ]
  },
  {
   "cell_type": "code",
   "execution_count": 18,
   "id": "20c758fb",
   "metadata": {
    "colab": {
     "base_uri": "https://localhost:8080/",
     "height": 206
    },
    "id": "20c758fb",
    "outputId": "20c3c0e2-89de-4f92-d7db-33c3d2129e15"
   },
   "outputs": [
    {
     "data": {
      "text/html": [
       "<div>\n",
       "<style scoped>\n",
       "    .dataframe tbody tr th:only-of-type {\n",
       "        vertical-align: middle;\n",
       "    }\n",
       "\n",
       "    .dataframe tbody tr th {\n",
       "        vertical-align: top;\n",
       "    }\n",
       "\n",
       "    .dataframe thead th {\n",
       "        text-align: right;\n",
       "    }\n",
       "</style>\n",
       "<table border=\"1\" class=\"dataframe\">\n",
       "  <thead>\n",
       "    <tr style=\"text-align: right;\">\n",
       "      <th></th>\n",
       "      <th>country</th>\n",
       "      <th>year</th>\n",
       "      <th>oil_consumption</th>\n",
       "      <th>gas_consumption</th>\n",
       "      <th>coal_consumption</th>\n",
       "      <th>solar_consumption</th>\n",
       "      <th>hydro_consumption</th>\n",
       "      <th>nuclear_consumption</th>\n",
       "      <th>wind_consumption</th>\n",
       "      <th>geo_biomass_other</th>\n",
       "    </tr>\n",
       "  </thead>\n",
       "  <tbody>\n",
       "    <tr>\n",
       "      <th>0</th>\n",
       "      <td>Algeria</td>\n",
       "      <td>1965</td>\n",
       "      <td>15.405264</td>\n",
       "      <td>7.430506</td>\n",
       "      <td>0.814101</td>\n",
       "      <td>0.0</td>\n",
       "      <td>1.111112</td>\n",
       "      <td>0.0</td>\n",
       "      <td>0.0</td>\n",
       "      <td>0.0</td>\n",
       "    </tr>\n",
       "    <tr>\n",
       "      <th>1</th>\n",
       "      <td>Algeria</td>\n",
       "      <td>1966</td>\n",
       "      <td>20.272721</td>\n",
       "      <td>7.719256</td>\n",
       "      <td>0.790841</td>\n",
       "      <td>0.0</td>\n",
       "      <td>0.986112</td>\n",
       "      <td>0.0</td>\n",
       "      <td>0.0</td>\n",
       "      <td>0.0</td>\n",
       "    </tr>\n",
       "    <tr>\n",
       "      <th>2</th>\n",
       "      <td>Algeria</td>\n",
       "      <td>1967</td>\n",
       "      <td>18.942046</td>\n",
       "      <td>7.488256</td>\n",
       "      <td>0.604760</td>\n",
       "      <td>0.0</td>\n",
       "      <td>1.138890</td>\n",
       "      <td>0.0</td>\n",
       "      <td>0.0</td>\n",
       "      <td>0.0</td>\n",
       "    </tr>\n",
       "    <tr>\n",
       "      <th>3</th>\n",
       "      <td>Algeria</td>\n",
       "      <td>1968</td>\n",
       "      <td>20.167318</td>\n",
       "      <td>7.873256</td>\n",
       "      <td>0.639651</td>\n",
       "      <td>0.0</td>\n",
       "      <td>1.563890</td>\n",
       "      <td>0.0</td>\n",
       "      <td>0.0</td>\n",
       "      <td>0.0</td>\n",
       "    </tr>\n",
       "    <tr>\n",
       "      <th>4</th>\n",
       "      <td>Algeria</td>\n",
       "      <td>1969</td>\n",
       "      <td>21.305947</td>\n",
       "      <td>10.351696</td>\n",
       "      <td>0.814101</td>\n",
       "      <td>0.0</td>\n",
       "      <td>1.002779</td>\n",
       "      <td>0.0</td>\n",
       "      <td>0.0</td>\n",
       "      <td>0.0</td>\n",
       "    </tr>\n",
       "  </tbody>\n",
       "</table>\n",
       "</div>"
      ],
      "text/plain": [
       "   country  year  oil_consumption  gas_consumption  coal_consumption  \\\n",
       "0  Algeria  1965        15.405264         7.430506          0.814101   \n",
       "1  Algeria  1966        20.272721         7.719256          0.790841   \n",
       "2  Algeria  1967        18.942046         7.488256          0.604760   \n",
       "3  Algeria  1968        20.167318         7.873256          0.639651   \n",
       "4  Algeria  1969        21.305947        10.351696          0.814101   \n",
       "\n",
       "   solar_consumption  hydro_consumption  nuclear_consumption  \\\n",
       "0                0.0           1.111112                  0.0   \n",
       "1                0.0           0.986112                  0.0   \n",
       "2                0.0           1.138890                  0.0   \n",
       "3                0.0           1.563890                  0.0   \n",
       "4                0.0           1.002779                  0.0   \n",
       "\n",
       "   wind_consumption  geo_biomass_other  \n",
       "0               0.0                0.0  \n",
       "1               0.0                0.0  \n",
       "2               0.0                0.0  \n",
       "3               0.0                0.0  \n",
       "4               0.0                0.0  "
      ]
     },
     "execution_count": 18,
     "metadata": {},
     "output_type": "execute_result"
    }
   ],
   "source": [
    "world_df = og_df.copy()\n",
    "index_names = world_df[world_df['country'] == 'World'].index\n",
    "world_df.drop(index_names, inplace = True)\n",
    "world_df.head()"
   ]
  },
  {
   "cell_type": "code",
   "execution_count": 19,
   "id": "2c2833d9",
   "metadata": {
    "colab": {
     "base_uri": "https://localhost:8080/",
     "height": 272
    },
    "id": "2c2833d9",
    "outputId": "ee350fb3-7b74-4cb6-b47b-1993f4bcaece"
   },
   "outputs": [
    {
     "name": "stderr",
     "output_type": "stream",
     "text": [
      "<ipython-input-19-a935f8f7fba0>:2: FutureWarning: Indexing with multiple keys (implicitly converted to a tuple of keys) will be deprecated, use a list instead.\n",
      "  world_df = og_df.groupby(['year'])['solar_consumption', 'hydro_consumption', 'nuclear_consumption', 'wind_consumption', 'geo_biomass_other'].apply(lambda x : x.sum())\n"
     ]
    },
    {
     "data": {
      "text/html": [
       "<div>\n",
       "<style scoped>\n",
       "    .dataframe tbody tr th:only-of-type {\n",
       "        vertical-align: middle;\n",
       "    }\n",
       "\n",
       "    .dataframe tbody tr th {\n",
       "        vertical-align: top;\n",
       "    }\n",
       "\n",
       "    .dataframe thead th {\n",
       "        text-align: right;\n",
       "    }\n",
       "</style>\n",
       "<table border=\"1\" class=\"dataframe\">\n",
       "  <thead>\n",
       "    <tr style=\"text-align: right;\">\n",
       "      <th></th>\n",
       "      <th>solar_consumption</th>\n",
       "      <th>hydro_consumption</th>\n",
       "      <th>nuclear_consumption</th>\n",
       "      <th>wind_consumption</th>\n",
       "      <th>geo_biomass_other</th>\n",
       "    </tr>\n",
       "    <tr>\n",
       "      <th>year</th>\n",
       "      <th></th>\n",
       "      <th></th>\n",
       "      <th></th>\n",
       "      <th></th>\n",
       "      <th></th>\n",
       "    </tr>\n",
       "  </thead>\n",
       "  <tbody>\n",
       "    <tr>\n",
       "      <th>1965</th>\n",
       "      <td>0.0</td>\n",
       "      <td>5036.228450</td>\n",
       "      <td>141.887470</td>\n",
       "      <td>0.0</td>\n",
       "      <td>99.918036</td>\n",
       "    </tr>\n",
       "    <tr>\n",
       "      <th>1966</th>\n",
       "      <td>0.0</td>\n",
       "      <td>5361.564669</td>\n",
       "      <td>191.262877</td>\n",
       "      <td>0.0</td>\n",
       "      <td>110.033460</td>\n",
       "    </tr>\n",
       "    <tr>\n",
       "      <th>1967</th>\n",
       "      <td>0.0</td>\n",
       "      <td>5477.860024</td>\n",
       "      <td>227.705816</td>\n",
       "      <td>0.0</td>\n",
       "      <td>111.036593</td>\n",
       "    </tr>\n",
       "    <tr>\n",
       "      <th>1968</th>\n",
       "      <td>0.0</td>\n",
       "      <td>5766.934346</td>\n",
       "      <td>289.467810</td>\n",
       "      <td>0.0</td>\n",
       "      <td>122.889238</td>\n",
       "    </tr>\n",
       "    <tr>\n",
       "      <th>1969</th>\n",
       "      <td>0.0</td>\n",
       "      <td>6098.302649</td>\n",
       "      <td>343.099783</td>\n",
       "      <td>0.0</td>\n",
       "      <td>129.211017</td>\n",
       "    </tr>\n",
       "  </tbody>\n",
       "</table>\n",
       "</div>"
      ],
      "text/plain": [
       "      solar_consumption  hydro_consumption  nuclear_consumption  \\\n",
       "year                                                              \n",
       "1965                0.0        5036.228450           141.887470   \n",
       "1966                0.0        5361.564669           191.262877   \n",
       "1967                0.0        5477.860024           227.705816   \n",
       "1968                0.0        5766.934346           289.467810   \n",
       "1969                0.0        6098.302649           343.099783   \n",
       "\n",
       "      wind_consumption  geo_biomass_other  \n",
       "year                                       \n",
       "1965               0.0          99.918036  \n",
       "1966               0.0         110.033460  \n",
       "1967               0.0         111.036593  \n",
       "1968               0.0         122.889238  \n",
       "1969               0.0         129.211017  "
      ]
     },
     "execution_count": 19,
     "metadata": {},
     "output_type": "execute_result"
    }
   ],
   "source": [
    "# Dropping oil, coal and gas as the analysis is on environmental friendly sources\n",
    "world_df = og_df.groupby(['year'])['solar_consumption', 'hydro_consumption', 'nuclear_consumption', 'wind_consumption', 'geo_biomass_other'].apply(lambda x : x.sum())\n",
    "# Keeping a backup of the dataframe\n",
    "world_df_bup = world_df.copy()\n",
    "world_df_bup.head()"
   ]
  },
  {
   "cell_type": "code",
   "execution_count": 20,
   "id": "e5c5c95f",
   "metadata": {
    "colab": {
     "base_uri": "https://localhost:8080/",
     "height": 206
    },
    "id": "e5c5c95f",
    "outputId": "f9005e21-181c-47f9-cc36-699e2d1eb3e5"
   },
   "outputs": [
    {
     "data": {
      "text/html": [
       "<div>\n",
       "<style scoped>\n",
       "    .dataframe tbody tr th:only-of-type {\n",
       "        vertical-align: middle;\n",
       "    }\n",
       "\n",
       "    .dataframe tbody tr th {\n",
       "        vertical-align: top;\n",
       "    }\n",
       "\n",
       "    .dataframe thead th {\n",
       "        text-align: right;\n",
       "    }\n",
       "</style>\n",
       "<table border=\"1\" class=\"dataframe\">\n",
       "  <thead>\n",
       "    <tr style=\"text-align: right;\">\n",
       "      <th></th>\n",
       "      <th>year</th>\n",
       "      <th>solar_consumption</th>\n",
       "      <th>hydro_consumption</th>\n",
       "      <th>nuclear_consumption</th>\n",
       "      <th>wind_consumption</th>\n",
       "      <th>geo_biomass_other</th>\n",
       "    </tr>\n",
       "  </thead>\n",
       "  <tbody>\n",
       "    <tr>\n",
       "      <th>34</th>\n",
       "      <td>1999</td>\n",
       "      <td>5.089681</td>\n",
       "      <td>13872.689918</td>\n",
       "      <td>14018.469461</td>\n",
       "      <td>117.511409</td>\n",
       "      <td>970.862385</td>\n",
       "    </tr>\n",
       "    <tr>\n",
       "      <th>35</th>\n",
       "      <td>2000</td>\n",
       "      <td>6.205154</td>\n",
       "      <td>14114.971908</td>\n",
       "      <td>14332.770247</td>\n",
       "      <td>173.844261</td>\n",
       "      <td>1016.605420</td>\n",
       "    </tr>\n",
       "    <tr>\n",
       "      <th>36</th>\n",
       "      <td>2001</td>\n",
       "      <td>7.703036</td>\n",
       "      <td>13658.458858</td>\n",
       "      <td>14641.947644</td>\n",
       "      <td>211.152439</td>\n",
       "      <td>1041.277816</td>\n",
       "    </tr>\n",
       "    <tr>\n",
       "      <th>37</th>\n",
       "      <td>2002</td>\n",
       "      <td>9.637711</td>\n",
       "      <td>13807.024027</td>\n",
       "      <td>14779.206156</td>\n",
       "      <td>285.976674</td>\n",
       "      <td>1113.655846</td>\n",
       "    </tr>\n",
       "    <tr>\n",
       "      <th>38</th>\n",
       "      <td>2003</td>\n",
       "      <td>12.259498</td>\n",
       "      <td>13675.545356</td>\n",
       "      <td>14387.729586</td>\n",
       "      <td>341.855001</td>\n",
       "      <td>1168.442447</td>\n",
       "    </tr>\n",
       "  </tbody>\n",
       "</table>\n",
       "</div>"
      ],
      "text/plain": [
       "    year  solar_consumption  hydro_consumption  nuclear_consumption  \\\n",
       "34  1999           5.089681       13872.689918         14018.469461   \n",
       "35  2000           6.205154       14114.971908         14332.770247   \n",
       "36  2001           7.703036       13658.458858         14641.947644   \n",
       "37  2002           9.637711       13807.024027         14779.206156   \n",
       "38  2003          12.259498       13675.545356         14387.729586   \n",
       "\n",
       "    wind_consumption  geo_biomass_other  \n",
       "34        117.511409         970.862385  \n",
       "35        173.844261        1016.605420  \n",
       "36        211.152439        1041.277816  \n",
       "37        285.976674        1113.655846  \n",
       "38        341.855001        1168.442447  "
      ]
     },
     "execution_count": 20,
     "metadata": {},
     "output_type": "execute_result"
    }
   ],
   "source": [
    "# years >= 1999\n",
    "world_df_bup = world_df_bup.reset_index()\n",
    "world_df_bup = world_df_bup[world_df_bup.year >=1999]\n",
    "world_df_bup.head()"
   ]
  },
  {
   "cell_type": "code",
   "execution_count": 21,
   "id": "9e579d11",
   "metadata": {
    "colab": {
     "base_uri": "https://localhost:8080/"
    },
    "id": "9e579d11",
    "outputId": "58736a34-aea1-4d5e-dabd-58a886a91038"
   },
   "outputs": [
    {
     "data": {
      "text/plain": [
       "Index(['solar_consumption', 'hydro_consumption', 'nuclear_consumption',\n",
       "       'wind_consumption', 'geo_biomass_other'],\n",
       "      dtype='object')"
      ]
     },
     "execution_count": 21,
     "metadata": {},
     "output_type": "execute_result"
    }
   ],
   "source": [
    "sources = world_df_bup.keys()\n",
    "sources = sources.drop('year')\n",
    "sources"
   ]
  },
  {
   "cell_type": "code",
   "execution_count": 22,
   "id": "60508f5c",
   "metadata": {
    "colab": {
     "base_uri": "https://localhost:8080/",
     "height": 1000
    },
    "id": "60508f5c",
    "outputId": "72b20198-8629-4c92-8794-f12eb226bd7f"
   },
   "outputs": [
    {
     "data": {
      "image/png": "[encoded data removed]",
      "text/plain": [
       "<Figure size 1080x216 with 1 Axes>"
      ]
     },
     "metadata": {},
     "output_type": "display_data"
    },
    {
     "data": {
      "image/png": "[encoded data removed]",
      "text/plain": [
       "<Figure size 1080x216 with 1 Axes>"
      ]
     },
     "metadata": {},
     "output_type": "display_data"
    },
    {
     "data": {
      "image/png": "[encoded data removed]",
      "text/plain": [
       "<Figure size 1080x216 with 1 Axes>"
      ]
     },
     "metadata": {},
     "output_type": "display_data"
    },
    {
     "data": {
      "image/png": "[encoded data removed]",
      "text/plain": [
       "<Figure size 1080x216 with 1 Axes>"
      ]
     },
     "metadata": {},
     "output_type": "display_data"
    },
    {
     "data": {
      "image/png": "[encoded data removed]",
      "text/plain": [
       "<Figure size 1080x216 with 1 Axes>"
      ]
     },
     "metadata": {},
     "output_type": "display_data"
    }
   ],
   "source": [
    "# Calculating percentage change for each resource over years from 1965 to 2019\n",
    "i = 0\n",
    "for source in sources:\n",
    "    values = world_df_bup[source]\n",
    "    # calculate and replace percentage change\n",
    "    world_df_bup[f'Percentage Change in {source} (%)'] = values.pct_change()*100\n",
    "    # Changing the figure size to make the axis readable \n",
    "    plt.figure(i,figsize=(15,3))\n",
    "    b = sns.barplot(x='year',y=f'Percentage Change in {source} (%)',data=world_df_bup)\n",
    "    plt.title(f'Percentage Change in {source} over the World from 1999 to 2019')\n",
    "    plt.ylim(-10, 100)\n",
    "    plt.show()\n",
    "    i+=1"
   ]
  },
  {
   "cell_type": "markdown",
   "id": "5e85883a",
   "metadata": {
    "id": "5e85883a"
   },
   "source": [
    "After cleaning the plot and removing the outlier in the data, it is very clear that there is a promising rise in solar energy and then followed by wind energy. Nuclear energy saw a promising rise from 1965 till 1980s. But the rise was dialed down significantly due to policies on nuclear energy production caps by various nations.\n",
    "\n",
    "Overall, we feel that solar energy is the most prominent and promising environmental friendly energy resource in the coming years. This shall be answered in the coming part of the notebook where we predict the energy source consumptions in the future."
   ]
  },
  {
   "cell_type": "markdown",
   "id": "785e77fe",
   "metadata": {
    "id": "785e77fe"
   },
   "source": [
    "### 4. Which countries get the highest share of energy from low-carbon sources? \n",
    "\n",
    "Now, we shift our focus to the countries consuming the highest percentage of renewable energy resources as part of their total energy consumption, thereby shifting to low carbon emission fuels.\n",
    "\n",
    "Here we analyze the data for the year **2019**."
   ]
  },
  {
   "cell_type": "code",
   "execution_count": 23,
   "id": "fcc3869a",
   "metadata": {
    "colab": {
     "base_uri": "https://localhost:8080/",
     "height": 206
    },
    "id": "fcc3869a",
    "outputId": "cbb369ff-1787-4fe1-b0b8-28708939da91"
   },
   "outputs": [
    {
     "data": {
      "text/html": [
       "<div>\n",
       "<style scoped>\n",
       "    .dataframe tbody tr th:only-of-type {\n",
       "        vertical-align: middle;\n",
       "    }\n",
       "\n",
       "    .dataframe tbody tr th {\n",
       "        vertical-align: top;\n",
       "    }\n",
       "\n",
       "    .dataframe thead th {\n",
       "        text-align: right;\n",
       "    }\n",
       "</style>\n",
       "<table border=\"1\" class=\"dataframe\">\n",
       "  <thead>\n",
       "    <tr style=\"text-align: right;\">\n",
       "      <th></th>\n",
       "      <th>year</th>\n",
       "      <th>country</th>\n",
       "      <th>oil_consumption</th>\n",
       "      <th>gas_consumption</th>\n",
       "      <th>coal_consumption</th>\n",
       "      <th>solar_consumption</th>\n",
       "      <th>hydro_consumption</th>\n",
       "      <th>nuclear_consumption</th>\n",
       "      <th>wind_consumption</th>\n",
       "      <th>geo_biomass_other</th>\n",
       "      <th>total</th>\n",
       "    </tr>\n",
       "  </thead>\n",
       "  <tbody>\n",
       "    <tr>\n",
       "      <th>0</th>\n",
       "      <td>1965</td>\n",
       "      <td>Algeria</td>\n",
       "      <td>15.405264</td>\n",
       "      <td>7.430506</td>\n",
       "      <td>0.814101</td>\n",
       "      <td>0.0</td>\n",
       "      <td>1.111112</td>\n",
       "      <td>0.0</td>\n",
       "      <td>0.0</td>\n",
       "      <td>0.0</td>\n",
       "      <td>24.760983</td>\n",
       "    </tr>\n",
       "    <tr>\n",
       "      <th>1</th>\n",
       "      <td>1966</td>\n",
       "      <td>Algeria</td>\n",
       "      <td>20.272721</td>\n",
       "      <td>7.719256</td>\n",
       "      <td>0.790841</td>\n",
       "      <td>0.0</td>\n",
       "      <td>0.986112</td>\n",
       "      <td>0.0</td>\n",
       "      <td>0.0</td>\n",
       "      <td>0.0</td>\n",
       "      <td>29.768930</td>\n",
       "    </tr>\n",
       "    <tr>\n",
       "      <th>2</th>\n",
       "      <td>1967</td>\n",
       "      <td>Algeria</td>\n",
       "      <td>18.942046</td>\n",
       "      <td>7.488256</td>\n",
       "      <td>0.604760</td>\n",
       "      <td>0.0</td>\n",
       "      <td>1.138890</td>\n",
       "      <td>0.0</td>\n",
       "      <td>0.0</td>\n",
       "      <td>0.0</td>\n",
       "      <td>28.173953</td>\n",
       "    </tr>\n",
       "    <tr>\n",
       "      <th>3</th>\n",
       "      <td>1968</td>\n",
       "      <td>Algeria</td>\n",
       "      <td>20.167318</td>\n",
       "      <td>7.873256</td>\n",
       "      <td>0.639651</td>\n",
       "      <td>0.0</td>\n",
       "      <td>1.563890</td>\n",
       "      <td>0.0</td>\n",
       "      <td>0.0</td>\n",
       "      <td>0.0</td>\n",
       "      <td>30.244114</td>\n",
       "    </tr>\n",
       "    <tr>\n",
       "      <th>4</th>\n",
       "      <td>1969</td>\n",
       "      <td>Algeria</td>\n",
       "      <td>21.305947</td>\n",
       "      <td>10.351696</td>\n",
       "      <td>0.814101</td>\n",
       "      <td>0.0</td>\n",
       "      <td>1.002779</td>\n",
       "      <td>0.0</td>\n",
       "      <td>0.0</td>\n",
       "      <td>0.0</td>\n",
       "      <td>33.474522</td>\n",
       "    </tr>\n",
       "  </tbody>\n",
       "</table>\n",
       "</div>"
      ],
      "text/plain": [
       "   year  country  oil_consumption  gas_consumption  coal_consumption  \\\n",
       "0  1965  Algeria        15.405264         7.430506          0.814101   \n",
       "1  1966  Algeria        20.272721         7.719256          0.790841   \n",
       "2  1967  Algeria        18.942046         7.488256          0.604760   \n",
       "3  1968  Algeria        20.167318         7.873256          0.639651   \n",
       "4  1969  Algeria        21.305947        10.351696          0.814101   \n",
       "\n",
       "   solar_consumption  hydro_consumption  nuclear_consumption  \\\n",
       "0                0.0           1.111112                  0.0   \n",
       "1                0.0           0.986112                  0.0   \n",
       "2                0.0           1.138890                  0.0   \n",
       "3                0.0           1.563890                  0.0   \n",
       "4                0.0           1.002779                  0.0   \n",
       "\n",
       "   wind_consumption  geo_biomass_other      total  \n",
       "0               0.0                0.0  24.760983  \n",
       "1               0.0                0.0  29.768930  \n",
       "2               0.0                0.0  28.173953  \n",
       "3               0.0                0.0  30.244114  \n",
       "4               0.0                0.0  33.474522  "
      ]
     },
     "execution_count": 23,
     "metadata": {},
     "output_type": "execute_result"
    }
   ],
   "source": [
    "lowcarbon_df = energy_consumption_df.copy()\n",
    "lowcarbon_df.set_index('year', inplace=True)\n",
    "lowcarbon_df[\"total\"] = lowcarbon_df.sum(axis=1)\n",
    "# add nuclear + renewable ==> low carbon consumption  ==> plot ONLY one graph\n",
    "lowcarbon_df = lowcarbon_df.reset_index()\n",
    "lowcarbon_df.head()"
   ]
  },
  {
   "cell_type": "code",
   "execution_count": 24,
   "id": "aff1db5b",
   "metadata": {
    "colab": {
     "base_uri": "https://localhost:8080/",
     "height": 206
    },
    "id": "aff1db5b",
    "outputId": "1ca4a5c8-5524-494b-811f-25f162cd5aa2"
   },
   "outputs": [
    {
     "data": {
      "text/html": [
       "<div>\n",
       "<style scoped>\n",
       "    .dataframe tbody tr th:only-of-type {\n",
       "        vertical-align: middle;\n",
       "    }\n",
       "\n",
       "    .dataframe tbody tr th {\n",
       "        vertical-align: top;\n",
       "    }\n",
       "\n",
       "    .dataframe thead th {\n",
       "        text-align: right;\n",
       "    }\n",
       "</style>\n",
       "<table border=\"1\" class=\"dataframe\">\n",
       "  <thead>\n",
       "    <tr style=\"text-align: right;\">\n",
       "      <th></th>\n",
       "      <th>country</th>\n",
       "      <th>oil_consumption</th>\n",
       "      <th>gas_consumption</th>\n",
       "      <th>coal_consumption</th>\n",
       "      <th>solar_consumption</th>\n",
       "      <th>hydro_consumption</th>\n",
       "      <th>nuclear_consumption</th>\n",
       "      <th>wind_consumption</th>\n",
       "      <th>geo_biomass_other</th>\n",
       "      <th>total</th>\n",
       "      <th>lowcarbon_consumption</th>\n",
       "    </tr>\n",
       "  </thead>\n",
       "  <tbody>\n",
       "    <tr>\n",
       "      <th>0</th>\n",
       "      <td>Algeria</td>\n",
       "      <td>244.927174</td>\n",
       "      <td>452.375362</td>\n",
       "      <td>5.815005</td>\n",
       "      <td>1.522874</td>\n",
       "      <td>0.375147</td>\n",
       "      <td>0.000000</td>\n",
       "      <td>0.024762</td>\n",
       "      <td>0.000000</td>\n",
       "      <td>705.040324</td>\n",
       "      <td>1.922784</td>\n",
       "    </tr>\n",
       "    <tr>\n",
       "      <th>1</th>\n",
       "      <td>Argentina</td>\n",
       "      <td>329.328038</td>\n",
       "      <td>474.906331</td>\n",
       "      <td>6.347707</td>\n",
       "      <td>1.980227</td>\n",
       "      <td>91.785463</td>\n",
       "      <td>20.903984</td>\n",
       "      <td>12.371104</td>\n",
       "      <td>5.936273</td>\n",
       "      <td>943.559127</td>\n",
       "      <td>132.977051</td>\n",
       "    </tr>\n",
       "    <tr>\n",
       "      <th>2</th>\n",
       "      <td>Australia</td>\n",
       "      <td>595.199645</td>\n",
       "      <td>537.403270</td>\n",
       "      <td>495.308728</td>\n",
       "      <td>44.449891</td>\n",
       "      <td>35.394758</td>\n",
       "      <td>0.000000</td>\n",
       "      <td>48.346833</td>\n",
       "      <td>8.854807</td>\n",
       "      <td>1764.957931</td>\n",
       "      <td>137.046288</td>\n",
       "    </tr>\n",
       "    <tr>\n",
       "      <th>3</th>\n",
       "      <td>Austria</td>\n",
       "      <td>152.250656</td>\n",
       "      <td>89.004482</td>\n",
       "      <td>34.955992</td>\n",
       "      <td>3.346797</td>\n",
       "      <td>100.860941</td>\n",
       "      <td>0.000000</td>\n",
       "      <td>18.411855</td>\n",
       "      <td>11.852748</td>\n",
       "      <td>410.683471</td>\n",
       "      <td>134.472341</td>\n",
       "    </tr>\n",
       "    <tr>\n",
       "      <th>4</th>\n",
       "      <td>Azerbaijan</td>\n",
       "      <td>59.722023</td>\n",
       "      <td>117.892451</td>\n",
       "      <td>0.014333</td>\n",
       "      <td>0.108458</td>\n",
       "      <td>3.874291</td>\n",
       "      <td>0.000000</td>\n",
       "      <td>0.333409</td>\n",
       "      <td>0.200821</td>\n",
       "      <td>182.145787</td>\n",
       "      <td>4.516980</td>\n",
       "    </tr>\n",
       "  </tbody>\n",
       "</table>\n",
       "</div>"
      ],
      "text/plain": [
       "      country  oil_consumption  gas_consumption  coal_consumption  \\\n",
       "0     Algeria       244.927174       452.375362          5.815005   \n",
       "1   Argentina       329.328038       474.906331          6.347707   \n",
       "2   Australia       595.199645       537.403270        495.308728   \n",
       "3     Austria       152.250656        89.004482         34.955992   \n",
       "4  Azerbaijan        59.722023       117.892451          0.014333   \n",
       "\n",
       "   solar_consumption  hydro_consumption  nuclear_consumption  \\\n",
       "0           1.522874           0.375147             0.000000   \n",
       "1           1.980227          91.785463            20.903984   \n",
       "2          44.449891          35.394758             0.000000   \n",
       "3           3.346797         100.860941             0.000000   \n",
       "4           0.108458           3.874291             0.000000   \n",
       "\n",
       "   wind_consumption  geo_biomass_other        total  lowcarbon_consumption  \n",
       "0          0.024762           0.000000   705.040324               1.922784  \n",
       "1         12.371104           5.936273   943.559127             132.977051  \n",
       "2         48.346833           8.854807  1764.957931             137.046288  \n",
       "3         18.411855          11.852748   410.683471             134.472341  \n",
       "4          0.333409           0.200821   182.145787               4.516980  "
      ]
     },
     "execution_count": 24,
     "metadata": {},
     "output_type": "execute_result"
    }
   ],
   "source": [
    "lowcarbon = ['solar_consumption', 'nuclear_consumption', 'hydro_consumption', 'wind_consumption', 'geo_biomass_other']\n",
    "#lowcarbon_df = energy_consumption_df.copy()\n",
    "lowcarbon_df['lowcarbon_consumption'] = lowcarbon_df[lowcarbon].sum(axis=1)\n",
    "lowcarbon_df = lowcarbon_df[lowcarbon_df['year'] == 2019]\n",
    "lowcarbon_df = lowcarbon_df.drop(columns=['year'])\n",
    "lowcarbon_df.set_index('country', inplace=True)\n",
    "# drop rows where total = 0\n",
    "lowcarbon_df = lowcarbon_df[lowcarbon_df['total']!= 0]\n",
    "lowcarbon_df.reset_index().head()"
   ]
  },
  {
   "cell_type": "code",
   "execution_count": 25,
   "id": "f0b7cd8e",
   "metadata": {
    "colab": {
     "base_uri": "https://localhost:8080/",
     "height": 206
    },
    "id": "f0b7cd8e",
    "outputId": "957e86bd-a609-435e-a613-0417dd2f5917"
   },
   "outputs": [
    {
     "data": {
      "text/html": [
       "<div>\n",
       "<style scoped>\n",
       "    .dataframe tbody tr th:only-of-type {\n",
       "        vertical-align: middle;\n",
       "    }\n",
       "\n",
       "    .dataframe tbody tr th {\n",
       "        vertical-align: top;\n",
       "    }\n",
       "\n",
       "    .dataframe thead th {\n",
       "        text-align: right;\n",
       "    }\n",
       "</style>\n",
       "<table border=\"1\" class=\"dataframe\">\n",
       "  <thead>\n",
       "    <tr style=\"text-align: right;\">\n",
       "      <th></th>\n",
       "      <th>country</th>\n",
       "      <th>oil_consumption</th>\n",
       "      <th>gas_consumption</th>\n",
       "      <th>coal_consumption</th>\n",
       "      <th>lowcarbon_consumption</th>\n",
       "    </tr>\n",
       "  </thead>\n",
       "  <tbody>\n",
       "    <tr>\n",
       "      <th>0</th>\n",
       "      <td>Algeria</td>\n",
       "      <td>34.739456</td>\n",
       "      <td>64.163048</td>\n",
       "      <td>0.824776</td>\n",
       "      <td>0.272720</td>\n",
       "    </tr>\n",
       "    <tr>\n",
       "      <th>1</th>\n",
       "      <td>Argentina</td>\n",
       "      <td>34.902745</td>\n",
       "      <td>50.331380</td>\n",
       "      <td>0.672741</td>\n",
       "      <td>14.093134</td>\n",
       "    </tr>\n",
       "    <tr>\n",
       "      <th>2</th>\n",
       "      <td>Australia</td>\n",
       "      <td>33.723163</td>\n",
       "      <td>30.448503</td>\n",
       "      <td>28.063486</td>\n",
       "      <td>7.764847</td>\n",
       "    </tr>\n",
       "    <tr>\n",
       "      <th>3</th>\n",
       "      <td>Austria</td>\n",
       "      <td>37.072506</td>\n",
       "      <td>21.672282</td>\n",
       "      <td>8.511663</td>\n",
       "      <td>32.743548</td>\n",
       "    </tr>\n",
       "    <tr>\n",
       "      <th>4</th>\n",
       "      <td>Azerbaijan</td>\n",
       "      <td>32.788034</td>\n",
       "      <td>64.724226</td>\n",
       "      <td>0.007869</td>\n",
       "      <td>2.479871</td>\n",
       "    </tr>\n",
       "  </tbody>\n",
       "</table>\n",
       "</div>"
      ],
      "text/plain": [
       "      country  oil_consumption  gas_consumption  coal_consumption  \\\n",
       "0     Algeria        34.739456        64.163048          0.824776   \n",
       "1   Argentina        34.902745        50.331380          0.672741   \n",
       "2   Australia        33.723163        30.448503         28.063486   \n",
       "3     Austria        37.072506        21.672282          8.511663   \n",
       "4  Azerbaijan        32.788034        64.724226          0.007869   \n",
       "\n",
       "   lowcarbon_consumption  \n",
       "0               0.272720  \n",
       "1              14.093134  \n",
       "2               7.764847  \n",
       "3              32.743548  \n",
       "4               2.479871  "
      ]
     },
     "execution_count": 25,
     "metadata": {},
     "output_type": "execute_result"
    }
   ],
   "source": [
    "allsources = ['oil_consumption', 'gas_consumption', 'coal_consumption', 'lowcarbon_consumption']\n",
    "pct_sustainable= lowcarbon_df.apply(lambda x: (x[allsources]/x['total'])*100, axis = 1)\n",
    "pct_sustainable.reset_index().head(5)"
   ]
  },
  {
   "cell_type": "code",
   "execution_count": 26,
   "id": "07c89698",
   "metadata": {
    "colab": {
     "base_uri": "https://localhost:8080/",
     "height": 276
    },
    "id": "07c89698",
    "outputId": "9f0a4e1d-6f8a-4c78-d3d1-5c1de1edc2bf"
   },
   "outputs": [
    {
     "data": {
      "image/png": "[encoded data removed]",
      "text/plain": [
       "<Figure size 864x216 with 1 Axes>"
      ]
     },
     "metadata": {},
     "output_type": "display_data"
    }
   ],
   "source": [
    "# top countries with maximum renewable energy and nuclear energy consumption\n",
    "source = pct_sustainable.reset_index().sort_values( by = 'lowcarbon_consumption', ascending=False ).head(10)\n",
    "sns.set()\n",
    "plt.figure(figsize=(12,3))\n",
    "g = sns.barplot(x='country', y= 'lowcarbon_consumption', data= source)\n",
    "plt.xlabel(\"\\nCountry\")\n",
    "plt.ylabel(\"Low-carbon energy consumption (EJ)\")\n",
    "plt.title(\"Top 10 Countries in %age consumption Low-carbon energy resources for 2019\\n\")\n",
    "plt.show()"
   ]
  },
  {
   "cell_type": "markdown",
   "id": "852c5666",
   "metadata": {
    "id": "852c5666"
   },
   "source": [
    "### Small countries, big impact...\n",
    "\n",
    "#### France\n",
    "- France's present energy mix is a result of the French government deciding in 1974, just after the first oil shock, to rapidly expand the country's nuclear power capacity. France had substantial heavy engineering expertise but few known indigenous energy resources. Nuclear energy, with the fuel cost being a relatively small part of the overall cost, made good sense in minimising imports and achieving greater energy security. \n",
    "- France now claims a substantial level of energy independence and almost the lowest cost electricity in Europe. It also has an extremely low level of carbon dioxide emissions per capita, since over 80% of its electricity is nuclear or hydro.\n",
    "\n",
    "<left>\n",
    "<img src=\"images/France.png\" width=400 height=400/>\n",
    "</left>\n",
    "\n",
    "#### Sweden\n",
    "- Sweden started developing nuclear technology during the first oil crisis in 1973. They decided that two nuclear reactors should be decommissioned, in 1995 and 1996 respectively, so it was very important to develop alternatives quickly. But the plan to decommision the nuclear plants was soon withdrawn.\n",
    "- Sweden has an **Electricity Certificate System** – a market-based support system for renewable electricity production. It aimed to increase the production of renewable electricity and make it more cost-efficient. Electricity retailers are required to buy a proportion of green electricity as part of their normal supply, while power producers receive certification for the renewable electricity they generate.  This is when wind energy production took off. \n",
    "- Over the last decade, wind power has become an increasing focus and provides around 20% of Sweden's electricity. It is the energy source that can be built at the speediest pace and at the lowest price.\n",
    "\n",
    "<left>\n",
    "<img src=\"images/Sweden.png\" width=400 height=400/>\n",
    "</left>\n",
    "\n",
    "#### Iceland\n",
    "- Until the early 1970s, the largest share of the country’s energy consumption was derived from imported fossil fuels. The drive behind this transition from non-renewable to renewable resources was that Iceland could not sustain oil price fluctuations occurring due to a number of crises affecting world energy markets. It required a stable and economically feasible domestic energy resource for its isolated location on the edge of the Arctic Circle.\n",
    "- In 2015, the total energy consumption in Iceland was 18,798 GWh. Renewable energy provided almost 100% of energy production, with about 73% coming from hydropower and 27% from geothermal power. In 2009 Iceland built its biggest hydroelectric project to date, the Kárahnjúkar Hydropower Plant, a 690 MW hydroelectric plant, which was the reason behind the rapid increase in hydro consumption in 2009.\n",
    "\n",
    "<left>\n",
    "<img src=\"images/Iceland.png\" width=400 height=400/>\n",
    "</left>\n",
    "\n",
    "#### Norway\n",
    "- A country well known for its high mountain plateaus, abundant natural lakes and steep valleys and fjords, Norway's topography lends itself perfectly to hydropower development. \n",
    "\n",
    "<left>\n",
    "<img src=\"images/Norway.png\" width=400 height=400/>\n",
    "</left>\n",
    "\n",
    "#### Brazil\n",
    "- Brazil is the third largest hydroelectricity producer in the world after China and Canada. However, experts state that Brazil’s hydroelectric potential has not yet been fully explored given that the country has the capacity to build several more hydroelectricity plants in its territory. Still, the current dependence on hydropower makes Brazil very vulnerable to power supply shortages in drought years, as was demonstrated during 2001-2002 when a drought triggered an energy crisis.\n",
    "- Renewables compose almost 45% of Brazil’s primary energy demand, which makes their energy sector one of the least carbon-intensive in the world. Brazil’s national grid is made up of almost 80% from renewable sources. \n",
    "\n",
    "<left>\n",
    "<img src=\"images/Brazil.png\" width=400 height=400/>\n",
    "</left>"
   ]
  },
  {
   "cell_type": "markdown",
   "id": "39e82c10",
   "metadata": {
    "id": "39e82c10"
   },
   "source": [
    "### 5. Analyzing low-carbon energy consumption for the year 2019, top consuming countries"
   ]
  },
  {
   "cell_type": "markdown",
   "id": "cb701dba",
   "metadata": {
    "id": "cb701dba"
   },
   "source": [
    "#### Top consumers globally (by absolute value)"
   ]
  },
  {
   "cell_type": "code",
   "execution_count": 27,
   "id": "df2616b5",
   "metadata": {
    "colab": {
     "base_uri": "https://localhost:8080/"
    },
    "id": "df2616b5",
    "outputId": "9b6b79e0-4b11-4c7a-ca1a-259f4913c496"
   },
   "outputs": [
    {
     "data": {
      "text/html": [
       "<div>\n",
       "<style scoped>\n",
       "    .dataframe tbody tr th:only-of-type {\n",
       "        vertical-align: middle;\n",
       "    }\n",
       "\n",
       "    .dataframe tbody tr th {\n",
       "        vertical-align: top;\n",
       "    }\n",
       "\n",
       "    .dataframe thead th {\n",
       "        text-align: right;\n",
       "    }\n",
       "</style>\n",
       "<table border=\"1\" class=\"dataframe\">\n",
       "  <thead>\n",
       "    <tr style=\"text-align: right;\">\n",
       "      <th></th>\n",
       "      <th>country</th>\n",
       "      <th>year</th>\n",
       "      <th>oil_consumption</th>\n",
       "      <th>gas_consumption</th>\n",
       "      <th>coal_consumption</th>\n",
       "      <th>solar_consumption</th>\n",
       "      <th>hydro_consumption</th>\n",
       "      <th>nuclear_consumption</th>\n",
       "      <th>wind_consumption</th>\n",
       "      <th>geo_biomass_other</th>\n",
       "    </tr>\n",
       "  </thead>\n",
       "  <tbody>\n",
       "    <tr>\n",
       "      <th>54</th>\n",
       "      <td>Algeria</td>\n",
       "      <td>2019</td>\n",
       "      <td>244.927174</td>\n",
       "      <td>452.375362</td>\n",
       "      <td>5.815005</td>\n",
       "      <td>1.522874</td>\n",
       "      <td>0.375147</td>\n",
       "      <td>0.000000</td>\n",
       "      <td>0.024762</td>\n",
       "      <td>0.000000</td>\n",
       "    </tr>\n",
       "    <tr>\n",
       "      <th>109</th>\n",
       "      <td>Angola</td>\n",
       "      <td>2019</td>\n",
       "      <td>0.000000</td>\n",
       "      <td>0.000000</td>\n",
       "      <td>0.000000</td>\n",
       "      <td>0.000000</td>\n",
       "      <td>0.000000</td>\n",
       "      <td>0.000000</td>\n",
       "      <td>0.000000</td>\n",
       "      <td>0.000000</td>\n",
       "    </tr>\n",
       "    <tr>\n",
       "      <th>164</th>\n",
       "      <td>Argentina</td>\n",
       "      <td>2019</td>\n",
       "      <td>329.328038</td>\n",
       "      <td>474.906331</td>\n",
       "      <td>6.347707</td>\n",
       "      <td>1.980227</td>\n",
       "      <td>91.785463</td>\n",
       "      <td>20.903984</td>\n",
       "      <td>12.371104</td>\n",
       "      <td>5.936273</td>\n",
       "    </tr>\n",
       "    <tr>\n",
       "      <th>219</th>\n",
       "      <td>Australia</td>\n",
       "      <td>2019</td>\n",
       "      <td>595.199645</td>\n",
       "      <td>537.403270</td>\n",
       "      <td>495.308728</td>\n",
       "      <td>44.449891</td>\n",
       "      <td>35.394758</td>\n",
       "      <td>0.000000</td>\n",
       "      <td>48.346833</td>\n",
       "      <td>8.854807</td>\n",
       "    </tr>\n",
       "    <tr>\n",
       "      <th>274</th>\n",
       "      <td>Austria</td>\n",
       "      <td>2019</td>\n",
       "      <td>152.250656</td>\n",
       "      <td>89.004482</td>\n",
       "      <td>34.955992</td>\n",
       "      <td>3.346797</td>\n",
       "      <td>100.860941</td>\n",
       "      <td>0.000000</td>\n",
       "      <td>18.411855</td>\n",
       "      <td>11.852748</td>\n",
       "    </tr>\n",
       "  </tbody>\n",
       "</table>\n",
       "</div>"
      ],
      "text/plain": [
       "       country  year  oil_consumption  gas_consumption  coal_consumption  \\\n",
       "54     Algeria  2019       244.927174       452.375362          5.815005   \n",
       "109     Angola  2019         0.000000         0.000000          0.000000   \n",
       "164  Argentina  2019       329.328038       474.906331          6.347707   \n",
       "219  Australia  2019       595.199645       537.403270        495.308728   \n",
       "274    Austria  2019       152.250656        89.004482         34.955992   \n",
       "\n",
       "     solar_consumption  hydro_consumption  nuclear_consumption  \\\n",
       "54            1.522874           0.375147             0.000000   \n",
       "109           0.000000           0.000000             0.000000   \n",
       "164           1.980227          91.785463            20.903984   \n",
       "219          44.449891          35.394758             0.000000   \n",
       "274           3.346797         100.860941             0.000000   \n",
       "\n",
       "     wind_consumption  geo_biomass_other  \n",
       "54           0.024762           0.000000  \n",
       "109          0.000000           0.000000  \n",
       "164         12.371104           5.936273  \n",
       "219         48.346833           8.854807  \n",
       "274         18.411855          11.852748  "
      ]
     },
     "execution_count": 27,
     "metadata": {},
     "output_type": "execute_result"
    }
   ],
   "source": [
    "# drop 'World' row indexes\n",
    "index_names = energy_consumption_df[energy_consumption_df['country'] == 'World'].index\n",
    "year2019_df = energy_consumption_df.drop(index_names, inplace = True)\n",
    "\n",
    "# subsetting for year 2019\n",
    "year2019_df = energy_consumption_df[energy_consumption_df['year'] == 2019]\n",
    "year2019_df.head()"
   ]
  },
  {
   "cell_type": "code",
   "execution_count": 28,
   "id": "09701d91",
   "metadata": {
    "colab": {
     "base_uri": "https://localhost:8080/"
    },
    "id": "09701d91",
    "outputId": "262cdb9d-4755-4d97-d2b0-270cf172cefc"
   },
   "outputs": [
    {
     "data": {
      "image/png": "[encoded data removed]",
      "text/plain": [
       "<Figure size 864x216 with 1 Axes>"
      ]
     },
     "metadata": {},
     "output_type": "display_data"
    },
    {
     "data": {
      "image/png": "[encoded data removed]",
      "text/plain": [
       "<Figure size 864x216 with 1 Axes>"
      ]
     },
     "metadata": {},
     "output_type": "display_data"
    },
    {
     "data": {
      "image/png": "[encoded data removed]",
      "text/plain": [
       "<Figure size 864x216 with 1 Axes>"
      ]
     },
     "metadata": {},
     "output_type": "display_data"
    },
    {
     "data": {
      "image/png": "[encoded data removed]",
      "text/plain": [
       "<Figure size 864x216 with 1 Axes>"
      ]
     },
     "metadata": {},
     "output_type": "display_data"
    },
    {
     "data": {
      "image/png": "[encoded data removed]",
      "text/plain": [
       "<Figure size 864x216 with 1 Axes>"
      ]
     },
     "metadata": {},
     "output_type": "display_data"
    }
   ],
   "source": [
    "# top countries consuming renewable energy sources and nuclear energy sources\n",
    "renewable2019 = ['nuclear_consumption', 'solar_consumption', 'hydro_consumption', 'wind_consumption', 'geo_biomass_other']\n",
    "# plotting top 5 consumer countries\n",
    "for i in renewable2019:\n",
    "    source = year2019_df.sort_values( by = i, ascending=False ).head(5)\n",
    "    sns.set()\n",
    "    plt.figure(figsize=(12,3))\n",
    "    sns.barplot(x='country', y= i, data= source)\n",
    "    plt.xlabel(\"\\nCountry\")\n",
    "    plt.ylabel(\"Energy consumption (EJ)\")\n",
    "    plt.title(\"Top 5 Countries in terms of \"+ i +\"\\n\")\n",
    "    plt.ylim(0,3500)\n",
    "    plt.show()"
   ]
  },
  {
   "cell_type": "markdown",
   "id": "da4f4277",
   "metadata": {
    "id": "da4f4277"
   },
   "source": [
    "From the above plot we can see that countries like China and USA consume the most amount of energy than the rest of the world, even in terms of renewable and nuclear resource. \n",
    "\n",
    "The gap of renewable power generation between China and rest of the world is too large. China produces much more renewable energy than other countries due to the fact that it respects the carbon tax and wants to reduce pollution rates. "
   ]
  },
  {
   "cell_type": "markdown",
   "id": "ce35d023",
   "metadata": {
    "id": "ce35d023"
   },
   "source": [
    "#### Percentage wise breakdown for all resources, countries which get the highest share of energy from low-carbon sources"
   ]
  },
  {
   "cell_type": "code",
   "execution_count": 29,
   "id": "bf40a5c8",
   "metadata": {
    "colab": {
     "base_uri": "https://localhost:8080/"
    },
    "id": "bf40a5c8",
    "outputId": "d24cdffa-a6a1-48f4-9c30-6750407afd65"
   },
   "outputs": [
    {
     "data": {
      "text/html": [
       "<div>\n",
       "<style scoped>\n",
       "    .dataframe tbody tr th:only-of-type {\n",
       "        vertical-align: middle;\n",
       "    }\n",
       "\n",
       "    .dataframe tbody tr th {\n",
       "        vertical-align: top;\n",
       "    }\n",
       "\n",
       "    .dataframe thead th {\n",
       "        text-align: right;\n",
       "    }\n",
       "</style>\n",
       "<table border=\"1\" class=\"dataframe\">\n",
       "  <thead>\n",
       "    <tr style=\"text-align: right;\">\n",
       "      <th></th>\n",
       "      <th>country</th>\n",
       "      <th>oil_consumption</th>\n",
       "      <th>gas_consumption</th>\n",
       "      <th>coal_consumption</th>\n",
       "      <th>solar_consumption</th>\n",
       "      <th>hydro_consumption</th>\n",
       "      <th>nuclear_consumption</th>\n",
       "      <th>wind_consumption</th>\n",
       "      <th>geo_biomass_other</th>\n",
       "      <th>total</th>\n",
       "    </tr>\n",
       "  </thead>\n",
       "  <tbody>\n",
       "    <tr>\n",
       "      <th>0</th>\n",
       "      <td>Algeria</td>\n",
       "      <td>244.927174</td>\n",
       "      <td>452.375362</td>\n",
       "      <td>5.815005</td>\n",
       "      <td>1.522874</td>\n",
       "      <td>0.375147</td>\n",
       "      <td>0.000000</td>\n",
       "      <td>0.024762</td>\n",
       "      <td>0.000000</td>\n",
       "      <td>705.040324</td>\n",
       "    </tr>\n",
       "    <tr>\n",
       "      <th>1</th>\n",
       "      <td>Argentina</td>\n",
       "      <td>329.328038</td>\n",
       "      <td>474.906331</td>\n",
       "      <td>6.347707</td>\n",
       "      <td>1.980227</td>\n",
       "      <td>91.785463</td>\n",
       "      <td>20.903984</td>\n",
       "      <td>12.371104</td>\n",
       "      <td>5.936273</td>\n",
       "      <td>943.559127</td>\n",
       "    </tr>\n",
       "    <tr>\n",
       "      <th>2</th>\n",
       "      <td>Australia</td>\n",
       "      <td>595.199645</td>\n",
       "      <td>537.403270</td>\n",
       "      <td>495.308728</td>\n",
       "      <td>44.449891</td>\n",
       "      <td>35.394758</td>\n",
       "      <td>0.000000</td>\n",
       "      <td>48.346833</td>\n",
       "      <td>8.854807</td>\n",
       "      <td>1764.957931</td>\n",
       "    </tr>\n",
       "    <tr>\n",
       "      <th>3</th>\n",
       "      <td>Austria</td>\n",
       "      <td>152.250656</td>\n",
       "      <td>89.004482</td>\n",
       "      <td>34.955992</td>\n",
       "      <td>3.346797</td>\n",
       "      <td>100.860941</td>\n",
       "      <td>0.000000</td>\n",
       "      <td>18.411855</td>\n",
       "      <td>11.852748</td>\n",
       "      <td>410.683471</td>\n",
       "    </tr>\n",
       "    <tr>\n",
       "      <th>4</th>\n",
       "      <td>Azerbaijan</td>\n",
       "      <td>59.722023</td>\n",
       "      <td>117.892451</td>\n",
       "      <td>0.014333</td>\n",
       "      <td>0.108458</td>\n",
       "      <td>3.874291</td>\n",
       "      <td>0.000000</td>\n",
       "      <td>0.333409</td>\n",
       "      <td>0.200821</td>\n",
       "      <td>182.145787</td>\n",
       "    </tr>\n",
       "  </tbody>\n",
       "</table>\n",
       "</div>"
      ],
      "text/plain": [
       "      country  oil_consumption  gas_consumption  coal_consumption  \\\n",
       "0     Algeria       244.927174       452.375362          5.815005   \n",
       "1   Argentina       329.328038       474.906331          6.347707   \n",
       "2   Australia       595.199645       537.403270        495.308728   \n",
       "3     Austria       152.250656        89.004482         34.955992   \n",
       "4  Azerbaijan        59.722023       117.892451          0.014333   \n",
       "\n",
       "   solar_consumption  hydro_consumption  nuclear_consumption  \\\n",
       "0           1.522874           0.375147             0.000000   \n",
       "1           1.980227          91.785463            20.903984   \n",
       "2          44.449891          35.394758             0.000000   \n",
       "3           3.346797         100.860941             0.000000   \n",
       "4           0.108458           3.874291             0.000000   \n",
       "\n",
       "   wind_consumption  geo_biomass_other        total  \n",
       "0          0.024762           0.000000   705.040324  \n",
       "1         12.371104           5.936273   943.559127  \n",
       "2         48.346833           8.854807  1764.957931  \n",
       "3         18.411855          11.852748   410.683471  \n",
       "4          0.333409           0.200821   182.145787  "
      ]
     },
     "execution_count": 29,
     "metadata": {},
     "output_type": "execute_result"
    }
   ],
   "source": [
    "year2019_df = year2019_df.drop(columns=['year'])\n",
    "year2019_df.set_index('country', inplace=True)\n",
    "year2019_df[\"total\"] = year2019_df.sum(axis=1)\n",
    "# drop rows where total = 0\n",
    "year2019_df = year2019_df[year2019_df['total']!= 0]\n",
    "year2019_df.reset_index().head()"
   ]
  },
  {
   "cell_type": "code",
   "execution_count": 30,
   "id": "1d104219",
   "metadata": {
    "colab": {
     "base_uri": "https://localhost:8080/"
    },
    "id": "1d104219",
    "outputId": "bb749da2-a86f-4a2e-a741-7461e394eee2"
   },
   "outputs": [
    {
     "data": {
      "text/html": [
       "<div>\n",
       "<style scoped>\n",
       "    .dataframe tbody tr th:only-of-type {\n",
       "        vertical-align: middle;\n",
       "    }\n",
       "\n",
       "    .dataframe tbody tr th {\n",
       "        vertical-align: top;\n",
       "    }\n",
       "\n",
       "    .dataframe thead th {\n",
       "        text-align: right;\n",
       "    }\n",
       "</style>\n",
       "<table border=\"1\" class=\"dataframe\">\n",
       "  <thead>\n",
       "    <tr style=\"text-align: right;\">\n",
       "      <th></th>\n",
       "      <th>country</th>\n",
       "      <th>nuclear_consumption</th>\n",
       "      <th>solar_consumption</th>\n",
       "      <th>hydro_consumption</th>\n",
       "      <th>wind_consumption</th>\n",
       "      <th>geo_biomass_other</th>\n",
       "    </tr>\n",
       "  </thead>\n",
       "  <tbody>\n",
       "    <tr>\n",
       "      <th>0</th>\n",
       "      <td>Algeria</td>\n",
       "      <td>0.00000</td>\n",
       "      <td>0.215998</td>\n",
       "      <td>0.053209</td>\n",
       "      <td>0.003512</td>\n",
       "      <td>0.000000</td>\n",
       "    </tr>\n",
       "    <tr>\n",
       "      <th>1</th>\n",
       "      <td>Argentina</td>\n",
       "      <td>2.21544</td>\n",
       "      <td>0.209868</td>\n",
       "      <td>9.727579</td>\n",
       "      <td>1.311111</td>\n",
       "      <td>0.629136</td>\n",
       "    </tr>\n",
       "    <tr>\n",
       "      <th>2</th>\n",
       "      <td>Australia</td>\n",
       "      <td>0.00000</td>\n",
       "      <td>2.518467</td>\n",
       "      <td>2.005416</td>\n",
       "      <td>2.739263</td>\n",
       "      <td>0.501701</td>\n",
       "    </tr>\n",
       "    <tr>\n",
       "      <th>3</th>\n",
       "      <td>Austria</td>\n",
       "      <td>0.00000</td>\n",
       "      <td>0.814933</td>\n",
       "      <td>24.559289</td>\n",
       "      <td>4.483223</td>\n",
       "      <td>2.886103</td>\n",
       "    </tr>\n",
       "    <tr>\n",
       "      <th>4</th>\n",
       "      <td>Azerbaijan</td>\n",
       "      <td>0.00000</td>\n",
       "      <td>0.059545</td>\n",
       "      <td>2.127028</td>\n",
       "      <td>0.183045</td>\n",
       "      <td>0.110253</td>\n",
       "    </tr>\n",
       "  </tbody>\n",
       "</table>\n",
       "</div>"
      ],
      "text/plain": [
       "      country  nuclear_consumption  solar_consumption  hydro_consumption  \\\n",
       "0     Algeria              0.00000           0.215998           0.053209   \n",
       "1   Argentina              2.21544           0.209868           9.727579   \n",
       "2   Australia              0.00000           2.518467           2.005416   \n",
       "3     Austria              0.00000           0.814933          24.559289   \n",
       "4  Azerbaijan              0.00000           0.059545           2.127028   \n",
       "\n",
       "   wind_consumption  geo_biomass_other  \n",
       "0          0.003512           0.000000  \n",
       "1          1.311111           0.629136  \n",
       "2          2.739263           0.501701  \n",
       "3          4.483223           2.886103  \n",
       "4          0.183045           0.110253  "
      ]
     },
     "execution_count": 30,
     "metadata": {},
     "output_type": "execute_result"
    }
   ],
   "source": [
    "pct2019 = year2019_df.apply(lambda x: (x[renewable2019]/x['total'])*100, axis = 1)\n",
    "pct2019.reset_index().head(5)"
   ]
  },
  {
   "cell_type": "code",
   "execution_count": 31,
   "id": "769ffa12",
   "metadata": {
    "colab": {
     "base_uri": "https://localhost:8080/"
    },
    "id": "769ffa12",
    "outputId": "58e60c59-b8ba-4202-911c-a955a05c9ec3"
   },
   "outputs": [
    {
     "data": {
      "image/png": "[encoded data removed]",
      "text/plain": [
       "<Figure size 864x216 with 1 Axes>"
      ]
     },
     "metadata": {},
     "output_type": "display_data"
    },
    {
     "data": {
      "image/png": "[encoded data removed]",
      "text/plain": [
       "<Figure size 864x216 with 1 Axes>"
      ]
     },
     "metadata": {},
     "output_type": "display_data"
    },
    {
     "data": {
      "image/png": "[encoded data removed]",
      "text/plain": [
       "<Figure size 864x216 with 1 Axes>"
      ]
     },
     "metadata": {},
     "output_type": "display_data"
    },
    {
     "data": {
      "image/png": "[encoded data removed]",
      "text/plain": [
       "<Figure size 864x216 with 1 Axes>"
      ]
     },
     "metadata": {},
     "output_type": "display_data"
    },
    {
     "data": {
      "image/png": "[encoded data removed]",
      "text/plain": [
       "<Figure size 864x216 with 1 Axes>"
      ]
     },
     "metadata": {},
     "output_type": "display_data"
    }
   ],
   "source": [
    "# top countries with maximum renewable energy and nuclear energy consumption\n",
    "\n",
    "# plotting top 5 consumer countries based on percentage\n",
    "for i in renewable2019:\n",
    "    source = pct2019.reset_index().sort_values( by = i, ascending=False ).head(5)\n",
    "    sns.set()\n",
    "    plt.figure(figsize=(12,3))\n",
    "    sns.barplot(x='country', y= i, data= source)\n",
    "    plt.xlabel(\"\\nCountry\")\n",
    "    plt.ylabel(\"Percentage (%)\")\n",
    "    plt.title(\"Countries with highest percentage consumption for \"+ i +\"\\n\")\n",
    "    plt.ylim(0,70)\n",
    "    plt.show()"
   ]
  },
  {
   "cell_type": "markdown",
   "id": "51a2f042",
   "metadata": {
    "id": "51a2f042"
   },
   "source": [
    "### Nuclear energy countywise consumption"
   ]
  },
  {
   "cell_type": "code",
   "execution_count": 32,
   "id": "758d4d23",
   "metadata": {
    "id": "758d4d23"
   },
   "outputs": [],
   "source": [
    "nuclear_df = energy_consumption_df[['country','year','nuclear_consumption']]"
   ]
  },
  {
   "cell_type": "code",
   "execution_count": 33,
   "id": "cc574042",
   "metadata": {
    "colab": {
     "base_uri": "https://localhost:8080/",
     "height": 226
    },
    "id": "cc574042",
    "outputId": "53972592-b175-4d95-8982-9486e36ab4f2"
   },
   "outputs": [
    {
     "data": {
      "text/html": [
       "<div>\n",
       "<style scoped>\n",
       "    .dataframe tbody tr th:only-of-type {\n",
       "        vertical-align: middle;\n",
       "    }\n",
       "\n",
       "    .dataframe tbody tr th {\n",
       "        vertical-align: top;\n",
       "    }\n",
       "\n",
       "    .dataframe thead tr th {\n",
       "        text-align: left;\n",
       "    }\n",
       "\n",
       "    .dataframe thead tr:last-of-type th {\n",
       "        text-align: right;\n",
       "    }\n",
       "</style>\n",
       "<table border=\"1\" class=\"dataframe\">\n",
       "  <thead>\n",
       "    <tr>\n",
       "      <th></th>\n",
       "      <th colspan=\"21\" halign=\"left\">nuclear_consumption</th>\n",
       "    </tr>\n",
       "    <tr>\n",
       "      <th>year</th>\n",
       "      <th>1965</th>\n",
       "      <th>1966</th>\n",
       "      <th>1967</th>\n",
       "      <th>1968</th>\n",
       "      <th>1969</th>\n",
       "      <th>1970</th>\n",
       "      <th>1971</th>\n",
       "      <th>1972</th>\n",
       "      <th>1973</th>\n",
       "      <th>1974</th>\n",
       "      <th>...</th>\n",
       "      <th>2010</th>\n",
       "      <th>2011</th>\n",
       "      <th>2012</th>\n",
       "      <th>2013</th>\n",
       "      <th>2014</th>\n",
       "      <th>2015</th>\n",
       "      <th>2016</th>\n",
       "      <th>2017</th>\n",
       "      <th>2018</th>\n",
       "      <th>2019</th>\n",
       "    </tr>\n",
       "    <tr>\n",
       "      <th>country</th>\n",
       "      <th></th>\n",
       "      <th></th>\n",
       "      <th></th>\n",
       "      <th></th>\n",
       "      <th></th>\n",
       "      <th></th>\n",
       "      <th></th>\n",
       "      <th></th>\n",
       "      <th></th>\n",
       "      <th></th>\n",
       "      <th></th>\n",
       "      <th></th>\n",
       "      <th></th>\n",
       "      <th></th>\n",
       "      <th></th>\n",
       "      <th></th>\n",
       "      <th></th>\n",
       "      <th></th>\n",
       "      <th></th>\n",
       "      <th></th>\n",
       "      <th></th>\n",
       "    </tr>\n",
       "  </thead>\n",
       "  <tbody>\n",
       "    <tr>\n",
       "      <th>France</th>\n",
       "      <td>2.491669</td>\n",
       "      <td>3.875003</td>\n",
       "      <td>5.766671</td>\n",
       "      <td>8.569451</td>\n",
       "      <td>10.000008</td>\n",
       "      <td>15.863902</td>\n",
       "      <td>25.91391</td>\n",
       "      <td>40.530588</td>\n",
       "      <td>40.975033</td>\n",
       "      <td>40.861144</td>\n",
       "      <td>...</td>\n",
       "      <td>1117.310250</td>\n",
       "      <td>1146.433234</td>\n",
       "      <td>1095.743604</td>\n",
       "      <td>1084.736561</td>\n",
       "      <td>1110.800739</td>\n",
       "      <td>1106.589576</td>\n",
       "      <td>1013.952734</td>\n",
       "      <td>995.890580</td>\n",
       "      <td>1028.564276</td>\n",
       "      <td>989.089623</td>\n",
       "    </tr>\n",
       "    <tr>\n",
       "      <th>Sweden</th>\n",
       "      <td>0.050000</td>\n",
       "      <td>0.125000</td>\n",
       "      <td>0.138889</td>\n",
       "      <td>0.063889</td>\n",
       "      <td>0.169445</td>\n",
       "      <td>0.155556</td>\n",
       "      <td>0.25000</td>\n",
       "      <td>4.069448</td>\n",
       "      <td>5.863894</td>\n",
       "      <td>5.705560</td>\n",
       "      <td>...</td>\n",
       "      <td>150.517912</td>\n",
       "      <td>156.718875</td>\n",
       "      <td>164.943920</td>\n",
       "      <td>170.146070</td>\n",
       "      <td>165.106270</td>\n",
       "      <td>142.547138</td>\n",
       "      <td>158.686074</td>\n",
       "      <td>164.240131</td>\n",
       "      <td>170.370458</td>\n",
       "      <td>165.955401</td>\n",
       "    </tr>\n",
       "    <tr>\n",
       "      <th>Ukraine</th>\n",
       "      <td>0.000000</td>\n",
       "      <td>0.000000</td>\n",
       "      <td>0.000000</td>\n",
       "      <td>0.000000</td>\n",
       "      <td>0.000000</td>\n",
       "      <td>0.000000</td>\n",
       "      <td>0.00000</td>\n",
       "      <td>0.000000</td>\n",
       "      <td>0.000000</td>\n",
       "      <td>0.000000</td>\n",
       "      <td>...</td>\n",
       "      <td>232.451720</td>\n",
       "      <td>233.873800</td>\n",
       "      <td>232.172277</td>\n",
       "      <td>213.035261</td>\n",
       "      <td>224.942500</td>\n",
       "      <td>221.676636</td>\n",
       "      <td>203.572648</td>\n",
       "      <td>213.940671</td>\n",
       "      <td>209.761527</td>\n",
       "      <td>205.532328</td>\n",
       "    </tr>\n",
       "  </tbody>\n",
       "</table>\n",
       "<p>3 rows × 55 columns</p>\n",
       "</div>"
      ],
      "text/plain": [
       "        nuclear_consumption                                           \\\n",
       "year                   1965      1966      1967      1968       1969   \n",
       "country                                                                \n",
       "France             2.491669  3.875003  5.766671  8.569451  10.000008   \n",
       "Sweden             0.050000  0.125000  0.138889  0.063889   0.169445   \n",
       "Ukraine            0.000000  0.000000  0.000000  0.000000   0.000000   \n",
       "\n",
       "                                                               ...  \\\n",
       "year          1970      1971       1972       1973       1974  ...   \n",
       "country                                                        ...   \n",
       "France   15.863902  25.91391  40.530588  40.975033  40.861144  ...   \n",
       "Sweden    0.155556   0.25000   4.069448   5.863894   5.705560  ...   \n",
       "Ukraine   0.000000   0.00000   0.000000   0.000000   0.000000  ...   \n",
       "\n",
       "                                                                          \\\n",
       "year            2010         2011         2012         2013         2014   \n",
       "country                                                                    \n",
       "France   1117.310250  1146.433234  1095.743604  1084.736561  1110.800739   \n",
       "Sweden    150.517912   156.718875   164.943920   170.146070   165.106270   \n",
       "Ukraine   232.451720   233.873800   232.172277   213.035261   224.942500   \n",
       "\n",
       "                                                                        \n",
       "year            2015         2016        2017         2018        2019  \n",
       "country                                                                 \n",
       "France   1106.589576  1013.952734  995.890580  1028.564276  989.089623  \n",
       "Sweden    142.547138   158.686074  164.240131   170.370458  165.955401  \n",
       "Ukraine   221.676636   203.572648  213.940671   209.761527  205.532328  \n",
       "\n",
       "[3 rows x 55 columns]"
      ]
     },
     "execution_count": 33,
     "metadata": {},
     "output_type": "execute_result"
    }
   ],
   "source": [
    "# nuclear energy analysis of top 3 countries\n",
    "country_top_nuclear = nuclear_df.pivot(index = 'country', columns ='year')\n",
    "country_top_nuclear = country_top_nuclear.fillna(0)\n",
    "country_top_nuclear = country_top_nuclear.loc[[\"France\", \"Sweden\", \"Ukraine\"]]\n",
    "country_top_nuclear.head()"
   ]
  },
  {
   "cell_type": "code",
   "execution_count": 34,
   "id": "590c0c0c",
   "metadata": {
    "colab": {
     "base_uri": "https://localhost:8080/",
     "height": 143
    },
    "id": "590c0c0c",
    "outputId": "cf49772e-30d6-4220-ca6b-ca427793c733"
   },
   "outputs": [
    {
     "data": {
      "text/html": [
       "<div>\n",
       "<style scoped>\n",
       "    .dataframe tbody tr th:only-of-type {\n",
       "        vertical-align: middle;\n",
       "    }\n",
       "\n",
       "    .dataframe tbody tr th {\n",
       "        vertical-align: top;\n",
       "    }\n",
       "\n",
       "    .dataframe thead th {\n",
       "        text-align: right;\n",
       "    }\n",
       "</style>\n",
       "<table border=\"1\" class=\"dataframe\">\n",
       "  <thead>\n",
       "    <tr style=\"text-align: right;\">\n",
       "      <th></th>\n",
       "      <th>year</th>\n",
       "      <th>country</th>\n",
       "      <th>nuclear_consumption</th>\n",
       "    </tr>\n",
       "  </thead>\n",
       "  <tbody>\n",
       "    <tr>\n",
       "      <th>0</th>\n",
       "      <td>1965</td>\n",
       "      <td>France</td>\n",
       "      <td>2.491669</td>\n",
       "    </tr>\n",
       "    <tr>\n",
       "      <th>1</th>\n",
       "      <td>1965</td>\n",
       "      <td>Sweden</td>\n",
       "      <td>0.050000</td>\n",
       "    </tr>\n",
       "    <tr>\n",
       "      <th>2</th>\n",
       "      <td>1965</td>\n",
       "      <td>Ukraine</td>\n",
       "      <td>0.000000</td>\n",
       "    </tr>\n",
       "  </tbody>\n",
       "</table>\n",
       "</div>"
      ],
      "text/plain": [
       "   year  country  nuclear_consumption\n",
       "0  1965   France             2.491669\n",
       "1  1965   Sweden             0.050000\n",
       "2  1965  Ukraine             0.000000"
      ]
     },
     "execution_count": 34,
     "metadata": {},
     "output_type": "execute_result"
    }
   ],
   "source": [
    "country_top_nuclear = country_top_nuclear.unstack().reset_index(name='nuclear_consumption')\n",
    "country_top_nuclear.drop(columns = 'level_0').head(3)"
   ]
  },
  {
   "cell_type": "code",
   "execution_count": 35,
   "id": "2ea55daa",
   "metadata": {
    "colab": {
     "base_uri": "https://localhost:8080/",
     "height": 331
    },
    "id": "2ea55daa",
    "outputId": "ffa63257-1957-48f0-ac7f-1680948bfbc7"
   },
   "outputs": [
    {
     "data": {
      "image/png": "[encoded data removed]",
      "text/plain": [
       "<Figure size 432x288 with 1 Axes>"
      ]
     },
     "metadata": {},
     "output_type": "display_data"
    }
   ],
   "source": [
    "sns.lineplot(x='year', y='nuclear_consumption', hue= 'country', data = country_top_nuclear)\n",
    "plt.xlabel(\"\\nYear\")\n",
    "plt.ylabel(\"Energy consumption (EJ)\")\n",
    "plt.title(\"Top nuclear energy consumers\\n\")\n",
    "plt.show()"
   ]
  },
  {
   "cell_type": "markdown",
   "id": "3f2c0dcb",
   "metadata": {
    "id": "3f2c0dcb"
   },
   "source": [
    "### Hydro energy country-wise consumption"
   ]
  },
  {
   "cell_type": "code",
   "execution_count": 36,
   "id": "77a9296f",
   "metadata": {
    "id": "77a9296f"
   },
   "outputs": [],
   "source": [
    "# hydro energy analysis of top 3 countries\n",
    "hydro_df = energy_consumption_df[['country','year','hydro_consumption']]"
   ]
  },
  {
   "cell_type": "code",
   "execution_count": 37,
   "id": "89d0afcb",
   "metadata": {
    "colab": {
     "base_uri": "https://localhost:8080/",
     "height": 226
    },
    "id": "89d0afcb",
    "outputId": "34b07c65-3a17-4c44-a391-d7f858025ad1"
   },
   "outputs": [
    {
     "data": {
      "text/html": [
       "<div>\n",
       "<style scoped>\n",
       "    .dataframe tbody tr th:only-of-type {\n",
       "        vertical-align: middle;\n",
       "    }\n",
       "\n",
       "    .dataframe tbody tr th {\n",
       "        vertical-align: top;\n",
       "    }\n",
       "\n",
       "    .dataframe thead tr th {\n",
       "        text-align: left;\n",
       "    }\n",
       "\n",
       "    .dataframe thead tr:last-of-type th {\n",
       "        text-align: right;\n",
       "    }\n",
       "</style>\n",
       "<table border=\"1\" class=\"dataframe\">\n",
       "  <thead>\n",
       "    <tr>\n",
       "      <th></th>\n",
       "      <th colspan=\"21\" halign=\"left\">hydro_consumption</th>\n",
       "    </tr>\n",
       "    <tr>\n",
       "      <th>year</th>\n",
       "      <th>1965</th>\n",
       "      <th>1966</th>\n",
       "      <th>1967</th>\n",
       "      <th>1968</th>\n",
       "      <th>1969</th>\n",
       "      <th>1970</th>\n",
       "      <th>1971</th>\n",
       "      <th>1972</th>\n",
       "      <th>1973</th>\n",
       "      <th>1974</th>\n",
       "      <th>...</th>\n",
       "      <th>2010</th>\n",
       "      <th>2011</th>\n",
       "      <th>2012</th>\n",
       "      <th>2013</th>\n",
       "      <th>2014</th>\n",
       "      <th>2015</th>\n",
       "      <th>2016</th>\n",
       "      <th>2017</th>\n",
       "      <th>2018</th>\n",
       "      <th>2019</th>\n",
       "    </tr>\n",
       "    <tr>\n",
       "      <th>country</th>\n",
       "      <th></th>\n",
       "      <th></th>\n",
       "      <th></th>\n",
       "      <th></th>\n",
       "      <th></th>\n",
       "      <th></th>\n",
       "      <th></th>\n",
       "      <th></th>\n",
       "      <th></th>\n",
       "      <th></th>\n",
       "      <th></th>\n",
       "      <th></th>\n",
       "      <th></th>\n",
       "      <th></th>\n",
       "      <th></th>\n",
       "      <th></th>\n",
       "      <th></th>\n",
       "      <th></th>\n",
       "      <th></th>\n",
       "      <th></th>\n",
       "      <th></th>\n",
       "    </tr>\n",
       "  </thead>\n",
       "  <tbody>\n",
       "    <tr>\n",
       "      <th>Norway</th>\n",
       "      <td>137.366777</td>\n",
       "      <td>135.400108</td>\n",
       "      <td>148.058452</td>\n",
       "      <td>167.236245</td>\n",
       "      <td>159.364016</td>\n",
       "      <td>160.577906</td>\n",
       "      <td>175.680696</td>\n",
       "      <td>187.269594</td>\n",
       "      <td>202.408495</td>\n",
       "      <td>212.769615</td>\n",
       "      <td>...</td>\n",
       "      <td>304.409753</td>\n",
       "      <td>311.729975</td>\n",
       "      <td>365.083019</td>\n",
       "      <td>328.105383</td>\n",
       "      <td>344.680366</td>\n",
       "      <td>347.341647</td>\n",
       "      <td>358.152062</td>\n",
       "      <td>354.887784</td>\n",
       "      <td>345.446410</td>\n",
       "      <td>310.162432</td>\n",
       "    </tr>\n",
       "    <tr>\n",
       "      <th>Iceland</th>\n",
       "      <td>1.779724</td>\n",
       "      <td>1.733057</td>\n",
       "      <td>1.845835</td>\n",
       "      <td>1.908057</td>\n",
       "      <td>2.389169</td>\n",
       "      <td>3.924725</td>\n",
       "      <td>4.276670</td>\n",
       "      <td>4.729448</td>\n",
       "      <td>6.058338</td>\n",
       "      <td>6.272783</td>\n",
       "      <td>...</td>\n",
       "      <td>32.832142</td>\n",
       "      <td>32.411041</td>\n",
       "      <td>31.775936</td>\n",
       "      <td>32.932005</td>\n",
       "      <td>32.760693</td>\n",
       "      <td>34.862094</td>\n",
       "      <td>33.873272</td>\n",
       "      <td>35.146834</td>\n",
       "      <td>34.330076</td>\n",
       "      <td>33.325040</td>\n",
       "    </tr>\n",
       "    <tr>\n",
       "      <th>Brazil</th>\n",
       "      <td>70.875057</td>\n",
       "      <td>77.516729</td>\n",
       "      <td>81.080620</td>\n",
       "      <td>84.861179</td>\n",
       "      <td>90.811184</td>\n",
       "      <td>110.558422</td>\n",
       "      <td>119.997318</td>\n",
       "      <td>140.780668</td>\n",
       "      <td>160.805684</td>\n",
       "      <td>182.441813</td>\n",
       "      <td>...</td>\n",
       "      <td>1051.523360</td>\n",
       "      <td>1110.009979</td>\n",
       "      <td>1069.821611</td>\n",
       "      <td>1001.034572</td>\n",
       "      <td>950.369627</td>\n",
       "      <td>910.064380</td>\n",
       "      <td>957.912899</td>\n",
       "      <td>927.266883</td>\n",
       "      <td>966.741751</td>\n",
       "      <td>988.746892</td>\n",
       "    </tr>\n",
       "  </tbody>\n",
       "</table>\n",
       "<p>3 rows × 55 columns</p>\n",
       "</div>"
      ],
      "text/plain": [
       "        hydro_consumption                                                  \\\n",
       "year                 1965        1966        1967        1968        1969   \n",
       "country                                                                     \n",
       "Norway         137.366777  135.400108  148.058452  167.236245  159.364016   \n",
       "Iceland          1.779724    1.733057    1.845835    1.908057    2.389169   \n",
       "Brazil          70.875057   77.516729   81.080620   84.861179   90.811184   \n",
       "\n",
       "                                                                     ...  \\\n",
       "year           1970        1971        1972        1973        1974  ...   \n",
       "country                                                              ...   \n",
       "Norway   160.577906  175.680696  187.269594  202.408495  212.769615  ...   \n",
       "Iceland    3.924725    4.276670    4.729448    6.058338    6.272783  ...   \n",
       "Brazil   110.558422  119.997318  140.780668  160.805684  182.441813  ...   \n",
       "\n",
       "                                                                         \\\n",
       "year            2010         2011         2012         2013        2014   \n",
       "country                                                                   \n",
       "Norway    304.409753   311.729975   365.083019   328.105383  344.680366   \n",
       "Iceland    32.832142    32.411041    31.775936    32.932005   32.760693   \n",
       "Brazil   1051.523360  1110.009979  1069.821611  1001.034572  950.369627   \n",
       "\n",
       "                                                                     \n",
       "year           2015        2016        2017        2018        2019  \n",
       "country                                                              \n",
       "Norway   347.341647  358.152062  354.887784  345.446410  310.162432  \n",
       "Iceland   34.862094   33.873272   35.146834   34.330076   33.325040  \n",
       "Brazil   910.064380  957.912899  927.266883  966.741751  988.746892  \n",
       "\n",
       "[3 rows x 55 columns]"
      ]
     },
     "execution_count": 37,
     "metadata": {},
     "output_type": "execute_result"
    }
   ],
   "source": [
    "country_top_hydro = hydro_df.pivot(index = 'country', columns ='year')\n",
    "country_top_hydro = country_top_hydro.fillna(0)\n",
    "country_top_hydro = country_top_hydro.loc[[\"Norway\", \"Iceland\", \"Brazil\"]]\n",
    "country_top_hydro.head()"
   ]
  },
  {
   "cell_type": "code",
   "execution_count": 38,
   "id": "faedea11",
   "metadata": {
    "colab": {
     "base_uri": "https://localhost:8080/",
     "height": 143
    },
    "id": "faedea11",
    "outputId": "75076a6e-8dd3-4761-a417-bcce70f820d1"
   },
   "outputs": [
    {
     "data": {
      "text/html": [
       "<div>\n",
       "<style scoped>\n",
       "    .dataframe tbody tr th:only-of-type {\n",
       "        vertical-align: middle;\n",
       "    }\n",
       "\n",
       "    .dataframe tbody tr th {\n",
       "        vertical-align: top;\n",
       "    }\n",
       "\n",
       "    .dataframe thead th {\n",
       "        text-align: right;\n",
       "    }\n",
       "</style>\n",
       "<table border=\"1\" class=\"dataframe\">\n",
       "  <thead>\n",
       "    <tr style=\"text-align: right;\">\n",
       "      <th></th>\n",
       "      <th>year</th>\n",
       "      <th>country</th>\n",
       "      <th>hydro_consumption</th>\n",
       "    </tr>\n",
       "  </thead>\n",
       "  <tbody>\n",
       "    <tr>\n",
       "      <th>0</th>\n",
       "      <td>1965</td>\n",
       "      <td>Norway</td>\n",
       "      <td>137.366777</td>\n",
       "    </tr>\n",
       "    <tr>\n",
       "      <th>1</th>\n",
       "      <td>1965</td>\n",
       "      <td>Iceland</td>\n",
       "      <td>1.779724</td>\n",
       "    </tr>\n",
       "    <tr>\n",
       "      <th>2</th>\n",
       "      <td>1965</td>\n",
       "      <td>Brazil</td>\n",
       "      <td>70.875057</td>\n",
       "    </tr>\n",
       "  </tbody>\n",
       "</table>\n",
       "</div>"
      ],
      "text/plain": [
       "   year  country  hydro_consumption\n",
       "0  1965   Norway         137.366777\n",
       "1  1965  Iceland           1.779724\n",
       "2  1965   Brazil          70.875057"
      ]
     },
     "execution_count": 38,
     "metadata": {},
     "output_type": "execute_result"
    }
   ],
   "source": [
    "country_top_hydro = country_top_hydro.unstack().reset_index(name='hydro_consumption')\n",
    "country_top_hydro.drop(columns = 'level_0').head(3)"
   ]
  },
  {
   "cell_type": "code",
   "execution_count": 39,
   "id": "0943a97b",
   "metadata": {
    "colab": {
     "base_uri": "https://localhost:8080/",
     "height": 331
    },
    "id": "0943a97b",
    "outputId": "97aeffff-91af-425e-8f76-1d96fa1af36d"
   },
   "outputs": [
    {
     "data": {
      "image/png": "[encoded data removed]",
      "text/plain": [
       "<Figure size 432x288 with 1 Axes>"
      ]
     },
     "metadata": {},
     "output_type": "display_data"
    }
   ],
   "source": [
    "sns.lineplot(x='year', y='hydro_consumption', hue= 'country', data = country_top_hydro)\n",
    "plt.xlabel(\"\\nYear\")\n",
    "plt.ylabel(\"Energy consumption (EJ)\")\n",
    "plt.title(\"Top hydro energy consumers\\n\")\n",
    "plt.show()"
   ]
  },
  {
   "cell_type": "markdown",
   "id": "4953b556",
   "metadata": {
    "id": "4953b556"
   },
   "source": [
    "#### Solar energy countywise consumption"
   ]
  },
  {
   "cell_type": "code",
   "execution_count": 40,
   "id": "ea771ba2",
   "metadata": {
    "id": "ea771ba2"
   },
   "outputs": [],
   "source": [
    "# solar energy analysis of top 3 countries\n",
    "solar_df = energy_consumption_df[['country','year','solar_consumption']]"
   ]
  },
  {
   "cell_type": "code",
   "execution_count": 41,
   "id": "ab01d468",
   "metadata": {
    "colab": {
     "base_uri": "https://localhost:8080/"
    },
    "id": "ab01d468",
    "outputId": "48717e97-61ae-4c7c-e002-3e2c5d767d28"
   },
   "outputs": [
    {
     "data": {
      "text/html": [
       "<div>\n",
       "<style scoped>\n",
       "    .dataframe tbody tr th:only-of-type {\n",
       "        vertical-align: middle;\n",
       "    }\n",
       "\n",
       "    .dataframe tbody tr th {\n",
       "        vertical-align: top;\n",
       "    }\n",
       "\n",
       "    .dataframe thead tr th {\n",
       "        text-align: left;\n",
       "    }\n",
       "\n",
       "    .dataframe thead tr:last-of-type th {\n",
       "        text-align: right;\n",
       "    }\n",
       "</style>\n",
       "<table border=\"1\" class=\"dataframe\">\n",
       "  <thead>\n",
       "    <tr>\n",
       "      <th></th>\n",
       "      <th colspan=\"21\" halign=\"left\">solar_consumption</th>\n",
       "    </tr>\n",
       "    <tr>\n",
       "      <th>year</th>\n",
       "      <th>1965</th>\n",
       "      <th>1966</th>\n",
       "      <th>1967</th>\n",
       "      <th>1968</th>\n",
       "      <th>1969</th>\n",
       "      <th>1970</th>\n",
       "      <th>1971</th>\n",
       "      <th>1972</th>\n",
       "      <th>1973</th>\n",
       "      <th>1974</th>\n",
       "      <th>...</th>\n",
       "      <th>2010</th>\n",
       "      <th>2011</th>\n",
       "      <th>2012</th>\n",
       "      <th>2013</th>\n",
       "      <th>2014</th>\n",
       "      <th>2015</th>\n",
       "      <th>2016</th>\n",
       "      <th>2017</th>\n",
       "      <th>2018</th>\n",
       "      <th>2019</th>\n",
       "    </tr>\n",
       "    <tr>\n",
       "      <th>country</th>\n",
       "      <th></th>\n",
       "      <th></th>\n",
       "      <th></th>\n",
       "      <th></th>\n",
       "      <th></th>\n",
       "      <th></th>\n",
       "      <th></th>\n",
       "      <th></th>\n",
       "      <th></th>\n",
       "      <th></th>\n",
       "      <th></th>\n",
       "      <th></th>\n",
       "      <th></th>\n",
       "      <th></th>\n",
       "      <th></th>\n",
       "      <th></th>\n",
       "      <th></th>\n",
       "      <th></th>\n",
       "      <th></th>\n",
       "      <th></th>\n",
       "      <th></th>\n",
       "    </tr>\n",
       "  </thead>\n",
       "  <tbody>\n",
       "    <tr>\n",
       "      <th>Japan</th>\n",
       "      <td>0.0</td>\n",
       "      <td>0.0</td>\n",
       "      <td>0.0</td>\n",
       "      <td>0.0</td>\n",
       "      <td>0.0</td>\n",
       "      <td>0.0</td>\n",
       "      <td>0.0</td>\n",
       "      <td>0.0</td>\n",
       "      <td>0.0</td>\n",
       "      <td>0.0</td>\n",
       "      <td>...</td>\n",
       "      <td>10.380904</td>\n",
       "      <td>14.095370</td>\n",
       "      <td>18.988250</td>\n",
       "      <td>33.049618</td>\n",
       "      <td>59.928016</td>\n",
       "      <td>87.378481</td>\n",
       "      <td>108.955232</td>\n",
       "      <td>135.604333</td>\n",
       "      <td>164.173230</td>\n",
       "      <td>186.396082</td>\n",
       "    </tr>\n",
       "    <tr>\n",
       "      <th>Italy</th>\n",
       "      <td>0.0</td>\n",
       "      <td>0.0</td>\n",
       "      <td>0.0</td>\n",
       "      <td>0.0</td>\n",
       "      <td>0.0</td>\n",
       "      <td>0.0</td>\n",
       "      <td>0.0</td>\n",
       "      <td>0.0</td>\n",
       "      <td>0.0</td>\n",
       "      <td>0.0</td>\n",
       "      <td>...</td>\n",
       "      <td>4.968854</td>\n",
       "      <td>27.976684</td>\n",
       "      <td>48.583206</td>\n",
       "      <td>55.272062</td>\n",
       "      <td>56.767830</td>\n",
       "      <td>58.038350</td>\n",
       "      <td>55.587781</td>\n",
       "      <td>60.944299</td>\n",
       "      <td>56.303349</td>\n",
       "      <td>60.236490</td>\n",
       "    </tr>\n",
       "    <tr>\n",
       "      <th>Chile</th>\n",
       "      <td>0.0</td>\n",
       "      <td>0.0</td>\n",
       "      <td>0.0</td>\n",
       "      <td>0.0</td>\n",
       "      <td>0.0</td>\n",
       "      <td>0.0</td>\n",
       "      <td>0.0</td>\n",
       "      <td>0.0</td>\n",
       "      <td>0.0</td>\n",
       "      <td>0.0</td>\n",
       "      <td>...</td>\n",
       "      <td>0.000000</td>\n",
       "      <td>0.000000</td>\n",
       "      <td>0.000877</td>\n",
       "      <td>0.017298</td>\n",
       "      <td>1.167384</td>\n",
       "      <td>3.440733</td>\n",
       "      <td>6.413390</td>\n",
       "      <td>9.739879</td>\n",
       "      <td>12.721977</td>\n",
       "      <td>15.600737</td>\n",
       "    </tr>\n",
       "  </tbody>\n",
       "</table>\n",
       "<p>3 rows × 55 columns</p>\n",
       "</div>"
      ],
      "text/plain": [
       "        solar_consumption                                               ...  \\\n",
       "year                 1965 1966 1967 1968 1969 1970 1971 1972 1973 1974  ...   \n",
       "country                                                                 ...   \n",
       "Japan                 0.0  0.0  0.0  0.0  0.0  0.0  0.0  0.0  0.0  0.0  ...   \n",
       "Italy                 0.0  0.0  0.0  0.0  0.0  0.0  0.0  0.0  0.0  0.0  ...   \n",
       "Chile                 0.0  0.0  0.0  0.0  0.0  0.0  0.0  0.0  0.0  0.0  ...   \n",
       "\n",
       "                                                                           \\\n",
       "year          2010       2011       2012       2013       2014       2015   \n",
       "country                                                                     \n",
       "Japan    10.380904  14.095370  18.988250  33.049618  59.928016  87.378481   \n",
       "Italy     4.968854  27.976684  48.583206  55.272062  56.767830  58.038350   \n",
       "Chile     0.000000   0.000000   0.000877   0.017298   1.167384   3.440733   \n",
       "\n",
       "                                                         \n",
       "year           2016        2017        2018        2019  \n",
       "country                                                  \n",
       "Japan    108.955232  135.604333  164.173230  186.396082  \n",
       "Italy     55.587781   60.944299   56.303349   60.236490  \n",
       "Chile      6.413390    9.739879   12.721977   15.600737  \n",
       "\n",
       "[3 rows x 55 columns]"
      ]
     },
     "execution_count": 41,
     "metadata": {},
     "output_type": "execute_result"
    }
   ],
   "source": [
    "country_top_solar = solar_df.pivot(index = 'country', columns ='year')\n",
    "country_top_solar = country_top_solar.fillna(0)\n",
    "country_top_solar = country_top_solar.loc[[\"Japan\", \"Italy\", \"Chile\"]]\n",
    "country_top_solar.head()"
   ]
  },
  {
   "cell_type": "code",
   "execution_count": 42,
   "id": "3ab59d60",
   "metadata": {
    "colab": {
     "base_uri": "https://localhost:8080/"
    },
    "id": "3ab59d60",
    "outputId": "4efe763f-5b65-418b-9ec3-1f7f3535bfc8"
   },
   "outputs": [
    {
     "data": {
      "text/html": [
       "<div>\n",
       "<style scoped>\n",
       "    .dataframe tbody tr th:only-of-type {\n",
       "        vertical-align: middle;\n",
       "    }\n",
       "\n",
       "    .dataframe tbody tr th {\n",
       "        vertical-align: top;\n",
       "    }\n",
       "\n",
       "    .dataframe thead th {\n",
       "        text-align: right;\n",
       "    }\n",
       "</style>\n",
       "<table border=\"1\" class=\"dataframe\">\n",
       "  <thead>\n",
       "    <tr style=\"text-align: right;\">\n",
       "      <th></th>\n",
       "      <th>year</th>\n",
       "      <th>country</th>\n",
       "      <th>solar_consumption</th>\n",
       "    </tr>\n",
       "  </thead>\n",
       "  <tbody>\n",
       "    <tr>\n",
       "      <th>0</th>\n",
       "      <td>1965</td>\n",
       "      <td>Japan</td>\n",
       "      <td>0.0</td>\n",
       "    </tr>\n",
       "    <tr>\n",
       "      <th>1</th>\n",
       "      <td>1965</td>\n",
       "      <td>Italy</td>\n",
       "      <td>0.0</td>\n",
       "    </tr>\n",
       "    <tr>\n",
       "      <th>2</th>\n",
       "      <td>1965</td>\n",
       "      <td>Chile</td>\n",
       "      <td>0.0</td>\n",
       "    </tr>\n",
       "  </tbody>\n",
       "</table>\n",
       "</div>"
      ],
      "text/plain": [
       "   year country  solar_consumption\n",
       "0  1965   Japan                0.0\n",
       "1  1965   Italy                0.0\n",
       "2  1965   Chile                0.0"
      ]
     },
     "execution_count": 42,
     "metadata": {},
     "output_type": "execute_result"
    }
   ],
   "source": [
    "country_top_solar = country_top_solar.unstack().reset_index(name='solar_consumption')\n",
    "country_top_solar.drop(columns = 'level_0').head(3)"
   ]
  },
  {
   "cell_type": "code",
   "execution_count": 43,
   "id": "e38f452b",
   "metadata": {
    "colab": {
     "base_uri": "https://localhost:8080/"
    },
    "id": "e38f452b",
    "outputId": "d6b05b9e-5419-4056-826b-67690d82600e"
   },
   "outputs": [
    {
     "data": {
      "image/png": "[encoded data removed]",
      "text/plain": [
       "<Figure size 432x288 with 1 Axes>"
      ]
     },
     "metadata": {},
     "output_type": "display_data"
    }
   ],
   "source": [
    "sns.lineplot(x='year', y='solar_consumption', hue= 'country', data = country_top_solar)\n",
    "plt.xlabel(\"\\nYear\")\n",
    "plt.ylabel(\"Energy consumption (EJ)\")\n",
    "plt.title(\"Top solar energy consumers\\n\")\n",
    "plt.show()"
   ]
  },
  {
   "cell_type": "markdown",
   "id": "70c30b22",
   "metadata": {
    "id": "70c30b22"
   },
   "source": [
    "#### Wind energy countywise consumption"
   ]
  },
  {
   "cell_type": "code",
   "execution_count": 44,
   "id": "2e11a3cb",
   "metadata": {
    "id": "2e11a3cb"
   },
   "outputs": [],
   "source": [
    "# wind energy analysis of top 3 countries\n",
    "wind_df = energy_consumption_df[['country','year','wind_consumption']]"
   ]
  },
  {
   "cell_type": "code",
   "execution_count": 45,
   "id": "2247715b",
   "metadata": {
    "colab": {
     "base_uri": "https://localhost:8080/"
    },
    "id": "2247715b",
    "outputId": "1bfa932c-cd05-4566-b277-ca9b4c6141c2"
   },
   "outputs": [
    {
     "data": {
      "text/html": [
       "<div>\n",
       "<style scoped>\n",
       "    .dataframe tbody tr th:only-of-type {\n",
       "        vertical-align: middle;\n",
       "    }\n",
       "\n",
       "    .dataframe tbody tr th {\n",
       "        vertical-align: top;\n",
       "    }\n",
       "\n",
       "    .dataframe thead tr th {\n",
       "        text-align: left;\n",
       "    }\n",
       "\n",
       "    .dataframe thead tr:last-of-type th {\n",
       "        text-align: right;\n",
       "    }\n",
       "</style>\n",
       "<table border=\"1\" class=\"dataframe\">\n",
       "  <thead>\n",
       "    <tr>\n",
       "      <th></th>\n",
       "      <th colspan=\"21\" halign=\"left\">solar_consumption</th>\n",
       "    </tr>\n",
       "    <tr>\n",
       "      <th>year</th>\n",
       "      <th>1965</th>\n",
       "      <th>1966</th>\n",
       "      <th>1967</th>\n",
       "      <th>1968</th>\n",
       "      <th>1969</th>\n",
       "      <th>1970</th>\n",
       "      <th>1971</th>\n",
       "      <th>1972</th>\n",
       "      <th>1973</th>\n",
       "      <th>1974</th>\n",
       "      <th>...</th>\n",
       "      <th>2010</th>\n",
       "      <th>2011</th>\n",
       "      <th>2012</th>\n",
       "      <th>2013</th>\n",
       "      <th>2014</th>\n",
       "      <th>2015</th>\n",
       "      <th>2016</th>\n",
       "      <th>2017</th>\n",
       "      <th>2018</th>\n",
       "      <th>2019</th>\n",
       "    </tr>\n",
       "    <tr>\n",
       "      <th>country</th>\n",
       "      <th></th>\n",
       "      <th></th>\n",
       "      <th></th>\n",
       "      <th></th>\n",
       "      <th></th>\n",
       "      <th></th>\n",
       "      <th></th>\n",
       "      <th></th>\n",
       "      <th></th>\n",
       "      <th></th>\n",
       "      <th></th>\n",
       "      <th></th>\n",
       "      <th></th>\n",
       "      <th></th>\n",
       "      <th></th>\n",
       "      <th></th>\n",
       "      <th></th>\n",
       "      <th></th>\n",
       "      <th></th>\n",
       "      <th></th>\n",
       "      <th></th>\n",
       "    </tr>\n",
       "  </thead>\n",
       "  <tbody>\n",
       "    <tr>\n",
       "      <th>Denmark</th>\n",
       "      <td>0.0</td>\n",
       "      <td>0.0</td>\n",
       "      <td>0.0</td>\n",
       "      <td>0.0</td>\n",
       "      <td>0.0</td>\n",
       "      <td>0.0</td>\n",
       "      <td>0.0</td>\n",
       "      <td>0.0</td>\n",
       "      <td>0.0</td>\n",
       "      <td>0.0</td>\n",
       "      <td>...</td>\n",
       "      <td>0.016064</td>\n",
       "      <td>0.039210</td>\n",
       "      <td>0.267521</td>\n",
       "      <td>1.325032</td>\n",
       "      <td>1.515538</td>\n",
       "      <td>1.528638</td>\n",
       "      <td>1.870456</td>\n",
       "      <td>1.878717</td>\n",
       "      <td>2.368502</td>\n",
       "      <td>2.385263</td>\n",
       "    </tr>\n",
       "    <tr>\n",
       "      <th>Ireland</th>\n",
       "      <td>0.0</td>\n",
       "      <td>0.0</td>\n",
       "      <td>0.0</td>\n",
       "      <td>0.0</td>\n",
       "      <td>0.0</td>\n",
       "      <td>0.0</td>\n",
       "      <td>0.0</td>\n",
       "      <td>0.0</td>\n",
       "      <td>0.0</td>\n",
       "      <td>0.0</td>\n",
       "      <td>...</td>\n",
       "      <td>0.001241</td>\n",
       "      <td>0.001405</td>\n",
       "      <td>0.001664</td>\n",
       "      <td>0.001791</td>\n",
       "      <td>0.002408</td>\n",
       "      <td>0.004090</td>\n",
       "      <td>0.013436</td>\n",
       "      <td>0.027003</td>\n",
       "      <td>0.041397</td>\n",
       "      <td>0.061622</td>\n",
       "    </tr>\n",
       "    <tr>\n",
       "      <th>Portugal</th>\n",
       "      <td>0.0</td>\n",
       "      <td>0.0</td>\n",
       "      <td>0.0</td>\n",
       "      <td>0.0</td>\n",
       "      <td>0.0</td>\n",
       "      <td>0.0</td>\n",
       "      <td>0.0</td>\n",
       "      <td>0.0</td>\n",
       "      <td>0.0</td>\n",
       "      <td>0.0</td>\n",
       "      <td>...</td>\n",
       "      <td>0.560583</td>\n",
       "      <td>0.730793</td>\n",
       "      <td>1.012274</td>\n",
       "      <td>1.226715</td>\n",
       "      <td>1.596466</td>\n",
       "      <td>2.014084</td>\n",
       "      <td>2.067161</td>\n",
       "      <td>2.480002</td>\n",
       "      <td>2.497809</td>\n",
       "      <td>3.157179</td>\n",
       "    </tr>\n",
       "  </tbody>\n",
       "</table>\n",
       "<p>3 rows × 55 columns</p>\n",
       "</div>"
      ],
      "text/plain": [
       "         solar_consumption                                               ...  \\\n",
       "year                  1965 1966 1967 1968 1969 1970 1971 1972 1973 1974  ...   \n",
       "country                                                                  ...   \n",
       "Denmark                0.0  0.0  0.0  0.0  0.0  0.0  0.0  0.0  0.0  0.0  ...   \n",
       "Ireland                0.0  0.0  0.0  0.0  0.0  0.0  0.0  0.0  0.0  0.0  ...   \n",
       "Portugal               0.0  0.0  0.0  0.0  0.0  0.0  0.0  0.0  0.0  0.0  ...   \n",
       "\n",
       "                                                                      \\\n",
       "year          2010      2011      2012      2013      2014      2015   \n",
       "country                                                                \n",
       "Denmark   0.016064  0.039210  0.267521  1.325032  1.515538  1.528638   \n",
       "Ireland   0.001241  0.001405  0.001664  0.001791  0.002408  0.004090   \n",
       "Portugal  0.560583  0.730793  1.012274  1.226715  1.596466  2.014084   \n",
       "\n",
       "                                                  \n",
       "year          2016      2017      2018      2019  \n",
       "country                                           \n",
       "Denmark   1.870456  1.878717  2.368502  2.385263  \n",
       "Ireland   0.013436  0.027003  0.041397  0.061622  \n",
       "Portugal  2.067161  2.480002  2.497809  3.157179  \n",
       "\n",
       "[3 rows x 55 columns]"
      ]
     },
     "execution_count": 45,
     "metadata": {},
     "output_type": "execute_result"
    }
   ],
   "source": [
    "country_top_wind = solar_df.pivot(index = 'country', columns ='year')\n",
    "country_top_wind = country_top_wind.fillna(0)\n",
    "country_top_wind = country_top_wind.loc[[\"Denmark\", \"Ireland\", \"Portugal\"]]\n",
    "country_top_wind.head()"
   ]
  },
  {
   "cell_type": "code",
   "execution_count": 46,
   "id": "e6df5bd5",
   "metadata": {
    "colab": {
     "base_uri": "https://localhost:8080/"
    },
    "id": "e6df5bd5",
    "outputId": "323fc85f-ea2a-4ca9-be08-95fcf4c30b3e"
   },
   "outputs": [
    {
     "data": {
      "text/html": [
       "<div>\n",
       "<style scoped>\n",
       "    .dataframe tbody tr th:only-of-type {\n",
       "        vertical-align: middle;\n",
       "    }\n",
       "\n",
       "    .dataframe tbody tr th {\n",
       "        vertical-align: top;\n",
       "    }\n",
       "\n",
       "    .dataframe thead th {\n",
       "        text-align: right;\n",
       "    }\n",
       "</style>\n",
       "<table border=\"1\" class=\"dataframe\">\n",
       "  <thead>\n",
       "    <tr style=\"text-align: right;\">\n",
       "      <th></th>\n",
       "      <th>year</th>\n",
       "      <th>country</th>\n",
       "      <th>wind_consumption</th>\n",
       "    </tr>\n",
       "  </thead>\n",
       "  <tbody>\n",
       "    <tr>\n",
       "      <th>0</th>\n",
       "      <td>1965</td>\n",
       "      <td>Denmark</td>\n",
       "      <td>0.0</td>\n",
       "    </tr>\n",
       "    <tr>\n",
       "      <th>1</th>\n",
       "      <td>1965</td>\n",
       "      <td>Ireland</td>\n",
       "      <td>0.0</td>\n",
       "    </tr>\n",
       "    <tr>\n",
       "      <th>2</th>\n",
       "      <td>1965</td>\n",
       "      <td>Portugal</td>\n",
       "      <td>0.0</td>\n",
       "    </tr>\n",
       "  </tbody>\n",
       "</table>\n",
       "</div>"
      ],
      "text/plain": [
       "   year   country  wind_consumption\n",
       "0  1965   Denmark               0.0\n",
       "1  1965   Ireland               0.0\n",
       "2  1965  Portugal               0.0"
      ]
     },
     "execution_count": 46,
     "metadata": {},
     "output_type": "execute_result"
    }
   ],
   "source": [
    "country_top_wind = country_top_wind.unstack().reset_index(name='wind_consumption')\n",
    "country_top_wind.drop(columns = 'level_0').head(3)"
   ]
  },
  {
   "cell_type": "code",
   "execution_count": 47,
   "id": "38888937",
   "metadata": {
    "colab": {
     "base_uri": "https://localhost:8080/"
    },
    "id": "38888937",
    "outputId": "5057dadd-fe7a-48c8-e2c3-8b9608519a5d"
   },
   "outputs": [
    {
     "data": {
      "image/png": "[encoded data removed]",
      "text/plain": [
       "<Figure size 432x288 with 1 Axes>"
      ]
     },
     "metadata": {},
     "output_type": "display_data"
    }
   ],
   "source": [
    "sns.lineplot(x='year', y='wind_consumption', hue= 'country', data = country_top_wind)\n",
    "plt.xlabel(\"\\nYear\")\n",
    "plt.ylabel(\"Energy consumption (EJ)\")\n",
    "plt.title(\"Top wind energy consumers\\n\")\n",
    "plt.show()"
   ]
  },
  {
   "cell_type": "markdown",
   "id": "54da1848",
   "metadata": {
    "id": "54da1848"
   },
   "source": [
    "#### Analyzing past trend for low-carbon and nuclear energy over 55 years"
   ]
  },
  {
   "cell_type": "code",
   "execution_count": 48,
   "id": "8f0a74d1",
   "metadata": {
    "colab": {
     "base_uri": "https://localhost:8080/",
     "height": 272
    },
    "id": "8f0a74d1",
    "outputId": "5c9fc548-9828-4dd3-97ed-87136a6cb5f3"
   },
   "outputs": [
    {
     "name": "stderr",
     "output_type": "stream",
     "text": [
      "<ipython-input-48-e314892b2f04>:2: FutureWarning: Indexing with multiple keys (implicitly converted to a tuple of keys) will be deprecated, use a list instead.\n",
      "  df5 = df5.groupby(['year'])['solar_consumption', 'hydro_consumption', 'nuclear_consumption', 'wind_consumption', 'geo_biomass_other'].apply(lambda x : x.sum())\n"
     ]
    },
    {
     "data": {
      "text/html": [
       "<div>\n",
       "<style scoped>\n",
       "    .dataframe tbody tr th:only-of-type {\n",
       "        vertical-align: middle;\n",
       "    }\n",
       "\n",
       "    .dataframe tbody tr th {\n",
       "        vertical-align: top;\n",
       "    }\n",
       "\n",
       "    .dataframe thead th {\n",
       "        text-align: right;\n",
       "    }\n",
       "</style>\n",
       "<table border=\"1\" class=\"dataframe\">\n",
       "  <thead>\n",
       "    <tr style=\"text-align: right;\">\n",
       "      <th></th>\n",
       "      <th>nuclear_consumption</th>\n",
       "      <th>renewable_consumption</th>\n",
       "    </tr>\n",
       "    <tr>\n",
       "      <th>year</th>\n",
       "      <th></th>\n",
       "      <th></th>\n",
       "    </tr>\n",
       "  </thead>\n",
       "  <tbody>\n",
       "    <tr>\n",
       "      <th>1965</th>\n",
       "      <td>141.887470</td>\n",
       "      <td>5278.033956</td>\n",
       "    </tr>\n",
       "    <tr>\n",
       "      <th>1966</th>\n",
       "      <td>191.262877</td>\n",
       "      <td>5662.861006</td>\n",
       "    </tr>\n",
       "    <tr>\n",
       "      <th>1967</th>\n",
       "      <td>227.705816</td>\n",
       "      <td>5816.602432</td>\n",
       "    </tr>\n",
       "    <tr>\n",
       "      <th>1968</th>\n",
       "      <td>289.467810</td>\n",
       "      <td>6179.291394</td>\n",
       "    </tr>\n",
       "    <tr>\n",
       "      <th>1969</th>\n",
       "      <td>343.099783</td>\n",
       "      <td>6570.613449</td>\n",
       "    </tr>\n",
       "  </tbody>\n",
       "</table>\n",
       "</div>"
      ],
      "text/plain": [
       "      nuclear_consumption  renewable_consumption\n",
       "year                                            \n",
       "1965           141.887470            5278.033956\n",
       "1966           191.262877            5662.861006\n",
       "1967           227.705816            5816.602432\n",
       "1968           289.467810            6179.291394\n",
       "1969           343.099783            6570.613449"
      ]
     },
     "execution_count": 48,
     "metadata": {},
     "output_type": "execute_result"
    }
   ],
   "source": [
    "df5 = world_df.copy()\n",
    "df5 = df5.groupby(['year'])['solar_consumption', 'hydro_consumption', 'nuclear_consumption', 'wind_consumption', 'geo_biomass_other'].apply(lambda x : x.sum())\n",
    "df5[\"renewable_consumption\"] = df5.sum(axis=1)\n",
    "df5 = df5.drop(columns = ['solar_consumption', 'hydro_consumption', 'wind_consumption', 'geo_biomass_other'])\n",
    "df5.head()"
   ]
  },
  {
   "cell_type": "code",
   "execution_count": 49,
   "id": "a88f85d0",
   "metadata": {
    "colab": {
     "base_uri": "https://localhost:8080/",
     "height": 306
    },
    "id": "a88f85d0",
    "outputId": "1b4f84ff-c3af-4d33-d445-e9f29d21bdc2"
   },
   "outputs": [
    {
     "data": {
      "text/plain": [
       "Text(0, 0.5, 'Energy Consumption (EJ)')"
      ]
     },
     "execution_count": 49,
     "metadata": {},
     "output_type": "execute_result"
    },
    {
     "data": {
      "image/png": "[encoded data removed]",
      "text/plain": [
       "<Figure size 432x288 with 1 Axes>"
      ]
     },
     "metadata": {},
     "output_type": "display_data"
    }
   ],
   "source": [
    "ax1 = df5.reset_index().plot(kind='line', x='year', y='nuclear_consumption', color='r', label='Nuclear')    \n",
    "ax2 = df5.reset_index().plot(kind='line', x='year', y='renewable_consumption', color='b', label='Low-Carbon', ax=ax1)    \n",
    "plt.xlabel(\"Date\")\n",
    "plt.ylabel(\"Energy Consumption (EJ)\")"
   ]
  },
  {
   "cell_type": "markdown",
   "id": "7a10093f",
   "metadata": {
    "id": "7a10093f"
   },
   "source": [
    "### 6. Prediction"
   ]
  },
  {
   "cell_type": "markdown",
   "id": "919e552e",
   "metadata": {
    "id": "919e552e"
   },
   "source": [
    "#### Polynomial regression"
   ]
  },
  {
   "cell_type": "code",
   "execution_count": 50,
   "id": "937d3f52",
   "metadata": {
    "colab": {
     "base_uri": "https://localhost:8080/",
     "height": 206
    },
    "id": "937d3f52",
    "outputId": "16a83a49-5dd2-400e-92db-154dd7ecd307"
   },
   "outputs": [
    {
     "data": {
      "text/html": [
       "<div>\n",
       "<style scoped>\n",
       "    .dataframe tbody tr th:only-of-type {\n",
       "        vertical-align: middle;\n",
       "    }\n",
       "\n",
       "    .dataframe tbody tr th {\n",
       "        vertical-align: top;\n",
       "    }\n",
       "\n",
       "    .dataframe thead th {\n",
       "        text-align: right;\n",
       "    }\n",
       "</style>\n",
       "<table border=\"1\" class=\"dataframe\">\n",
       "  <thead>\n",
       "    <tr style=\"text-align: right;\">\n",
       "      <th></th>\n",
       "      <th>year</th>\n",
       "      <th>solar_consumption</th>\n",
       "      <th>hydro_consumption</th>\n",
       "      <th>nuclear_consumption</th>\n",
       "      <th>wind_consumption</th>\n",
       "      <th>geo_biomass_other</th>\n",
       "      <th>renewable_consumption</th>\n",
       "    </tr>\n",
       "  </thead>\n",
       "  <tbody>\n",
       "    <tr>\n",
       "      <th>0</th>\n",
       "      <td>1965</td>\n",
       "      <td>0.0</td>\n",
       "      <td>5036.228450</td>\n",
       "      <td>141.887470</td>\n",
       "      <td>0.0</td>\n",
       "      <td>99.918036</td>\n",
       "      <td>5136.146486</td>\n",
       "    </tr>\n",
       "    <tr>\n",
       "      <th>1</th>\n",
       "      <td>1966</td>\n",
       "      <td>0.0</td>\n",
       "      <td>5361.564669</td>\n",
       "      <td>191.262877</td>\n",
       "      <td>0.0</td>\n",
       "      <td>110.033460</td>\n",
       "      <td>5471.598129</td>\n",
       "    </tr>\n",
       "    <tr>\n",
       "      <th>2</th>\n",
       "      <td>1967</td>\n",
       "      <td>0.0</td>\n",
       "      <td>5477.860024</td>\n",
       "      <td>227.705816</td>\n",
       "      <td>0.0</td>\n",
       "      <td>111.036593</td>\n",
       "      <td>5588.896617</td>\n",
       "    </tr>\n",
       "    <tr>\n",
       "      <th>3</th>\n",
       "      <td>1968</td>\n",
       "      <td>0.0</td>\n",
       "      <td>5766.934346</td>\n",
       "      <td>289.467810</td>\n",
       "      <td>0.0</td>\n",
       "      <td>122.889238</td>\n",
       "      <td>5889.823584</td>\n",
       "    </tr>\n",
       "    <tr>\n",
       "      <th>4</th>\n",
       "      <td>1969</td>\n",
       "      <td>0.0</td>\n",
       "      <td>6098.302649</td>\n",
       "      <td>343.099783</td>\n",
       "      <td>0.0</td>\n",
       "      <td>129.211017</td>\n",
       "      <td>6227.513666</td>\n",
       "    </tr>\n",
       "  </tbody>\n",
       "</table>\n",
       "</div>"
      ],
      "text/plain": [
       "   year  solar_consumption  hydro_consumption  nuclear_consumption  \\\n",
       "0  1965                0.0        5036.228450           141.887470   \n",
       "1  1966                0.0        5361.564669           191.262877   \n",
       "2  1967                0.0        5477.860024           227.705816   \n",
       "3  1968                0.0        5766.934346           289.467810   \n",
       "4  1969                0.0        6098.302649           343.099783   \n",
       "\n",
       "   wind_consumption  geo_biomass_other  renewable_consumption  \n",
       "0               0.0          99.918036            5136.146486  \n",
       "1               0.0         110.033460            5471.598129  \n",
       "2               0.0         111.036593            5588.896617  \n",
       "3               0.0         122.889238            5889.823584  \n",
       "4               0.0         129.211017            6227.513666  "
      ]
     },
     "execution_count": 50,
     "metadata": {},
     "output_type": "execute_result"
    }
   ],
   "source": [
    "# Creating a copy of world_df \n",
    "wdf = world_df.copy()\n",
    "wdf['renewable_consumption'] = wdf['hydro_consumption']+wdf['solar_consumption']+wdf['wind_consumption']+wdf['geo_biomass_other']\n",
    "wdf.reset_index(inplace=True)\n",
    "wdf.head()"
   ]
  },
  {
   "cell_type": "markdown",
   "id": "d3fcb34a",
   "metadata": {
    "id": "d3fcb34a"
   },
   "source": [
    "#### Renewable resource demand in the coming 5 years"
   ]
  },
  {
   "cell_type": "code",
   "execution_count": 51,
   "id": "846274b1",
   "metadata": {
    "id": "846274b1"
   },
   "outputs": [],
   "source": [
    "# Features year and renewable energy resources combined \n",
    "YEARS =  np.array(list(wdf['year'])).reshape(-1, 1)\n",
    "RENEW_ENG = np.array(list(wdf['renewable_consumption'])) "
   ]
  },
  {
   "cell_type": "code",
   "execution_count": null,
   "id": "8bf89243",
   "metadata": {
    "colab": {
     "base_uri": "https://localhost:8080/"
    },
    "id": "8bf89243",
    "outputId": "f5f29e3e-96e2-4459-8560-370d7d10ac91"
   },
   "outputs": [],
   "source": [
    "# Fitting Polynomial Regression to the dataset\n",
    "from sklearn.preprocessing import PolynomialFeatures\n",
    "from sklearn.linear_model import LinearRegression\n",
    "from sklearn.metrics import mean_squared_error, r2_score\n",
    "\n",
    "X_train = YEARS[:50]\n",
    "y_train = RENEW_ENG[:50]\n",
    "\n",
    "X_val = YEARS[50:]\n",
    "y_val = RENEW_ENG[50:]\n",
    "\n",
    "poly = PolynomialFeatures(degree = 55)\n",
    "X_poly = poly.fit_transform(X_train)\n",
    "\n",
    "poly.fit(X_poly, y_train)\n",
    "lin2 = LinearRegression()\n",
    "lin2.fit(X_poly, y_train)"
   ]
  },
  {
   "cell_type": "code",
   "execution_count": null,
   "id": "293cf8e9",
   "metadata": {
    "colab": {
     "base_uri": "https://localhost:8080/",
     "height": 301
    },
    "id": "293cf8e9",
    "outputId": "390c70a3-1e7c-4576-c7ba-53d619ef74d1"
   },
   "outputs": [],
   "source": [
    "# Visualising the Polynomial Regression training results\n",
    "# Train\n",
    "plt.scatter(X_train, y_train, color = 'blue')\n",
    "# Test\n",
    "plt.scatter(X_val, y_val, color = 'red')\n",
    "plt.plot(YEARS, lin2.predict(poly.fit_transform(YEARS)), color = 'green')\n",
    "plt.title('Polynomial Regression for Renewable Energy Consumption')\n",
    "plt.xlabel('Year')\n",
    "plt.ylabel('Renewable Consumption (EJ)')\n",
    " \n",
    "plt.show()"
   ]
  },
  {
   "cell_type": "code",
   "execution_count": null,
   "id": "6a076193",
   "metadata": {
    "id": "6a076193"
   },
   "outputs": [],
   "source": [
    "# Validation of the model\n",
    "y_pred = lin2.predict(poly.fit_transform(X_val))"
   ]
  },
  {
   "cell_type": "code",
   "execution_count": null,
   "id": "e842a705",
   "metadata": {
    "colab": {
     "base_uri": "https://localhost:8080/",
     "height": 301
    },
    "id": "e842a705",
    "outputId": "f4088d21-e9d0-40bb-eb26-b70ee0ca9217"
   },
   "outputs": [],
   "source": [
    "# Visualising the Polynomial Regression validation results\n",
    "plt.scatter(X_val, y_val, color = 'green')\n",
    " \n",
    "plt.plot(X_val, y_pred, color = 'red')\n",
    "plt.title('Polynomial Regression')\n",
    "plt.xlabel('Year')\n",
    "plt.ylabel('Renewable Consumption (EJ)')\n",
    " \n",
    "plt.show()"
   ]
  },
  {
   "cell_type": "code",
   "execution_count": null,
   "id": "eea46430",
   "metadata": {
    "colab": {
     "base_uri": "https://localhost:8080/"
    },
    "id": "eea46430",
    "outputId": "1400a71a-9639-4c42-c23a-4ebc5d7eaa13"
   },
   "outputs": [],
   "source": [
    "# Evaluating rmse score\n",
    "rmse = np.sqrt(mean_squared_error(y_val,y_pred))\n",
    "# Evaluating r2 score\n",
    "r2 = r2_score(y_val,y_pred)\n",
    "print(rmse)\n",
    "print(r2)"
   ]
  },
  {
   "cell_type": "markdown",
   "id": "f7f1e884",
   "metadata": {
    "id": "f7f1e884"
   },
   "source": [
    "Our R2 score is close to 1, but RMSE score shows a lot of deviation in the predicted values in Exajoules. We see an overfitting here. It also  depends on the fact that we only have data for the past 55 years. "
   ]
  },
  {
   "cell_type": "markdown",
   "id": "-CGfkZC9gJ6Z",
   "metadata": {
    "id": "-CGfkZC9gJ6Z"
   },
   "source": [
    "#### Time series ARIMA model to predict the resource-wise global energy consumption"
   ]
  },
  {
   "cell_type": "markdown",
   "id": "9aJH41ROqY-G",
   "metadata": {
    "id": "9aJH41ROqY-G"
   },
   "source": [
    "Plotting the hydro_consumption, nuclear_consumption, wind_consumption, solar_consumption and geo_biomass_other yearwise and comparing the trends."
   ]
  },
  {
   "cell_type": "code",
   "execution_count": null,
   "id": "zhhgakEQhW7-",
   "metadata": {
    "colab": {
     "base_uri": "https://localhost:8080/",
     "height": 518
    },
    "id": "zhhgakEQhW7-",
    "outputId": "c1b41535-b5ac-4c99-e0e0-6d7382fd3c53"
   },
   "outputs": [],
   "source": [
    "#plot years in x axis and consumption in y axis\n",
    "\n",
    "renewable_energy = ['hydro_consumption', 'nuclear_consumption', 'wind_consumption', 'solar_consumption', 'geo_biomass_other']\n",
    "# for country in energy_consumption_df_top_5['country'].unique():\n",
    "plt.figure(figsize=(12,8))\n",
    "for energy in renewable_energy:\n",
    "    # plt.plot(energy_consumption_df_top_5[energy_consumption_df_top_5['country'] == country]['year'], energy_consumption_df_top_5[energy_consumption_df_top_5['country'] == country][energy], label=energy)\n",
    "    plt.plot(world_consumption_df.groupby('year')[energy].mean())\n",
    "    plt.title('Energy Consumption for the world') \n",
    "    plt.xlabel('Year')\n",
    "    plt.ylabel('Consumption')\n",
    "plt.legend(renewable_energy)\n",
    "plt.show()"
   ]
  },
  {
   "cell_type": "code",
   "execution_count": null,
   "id": "QhQTs-J2h_Xv",
   "metadata": {
    "colab": {
     "base_uri": "https://localhost:8080/"
    },
    "id": "QhQTs-J2h_Xv",
    "outputId": "d5805e63-9624-4993-93fe-be342fd749c3"
   },
   "outputs": [],
   "source": [
    "from statsmodels.tsa.stattools import adfuller\n",
    "from statsmodels.tsa.stattools import acf, pacf\n",
    "from statsmodels.tsa.seasonal import seasonal_decompose\n",
    "from statsmodels.tsa.arima_model import ARIMA\n",
    "from matplotlib.pylab import rcParams\n",
    "rcParams['figure.figsize'] = 10, 6"
   ]
  },
  {
   "cell_type": "markdown",
   "id": "TtjxDq0vC6On",
   "metadata": {
    "id": "TtjxDq0vC6On"
   },
   "source": [
    "We check for stationarity using rolling mean and rolling standard deviation. If both remain constant over time, then the series is said to be stationary"
   ]
  },
  {
   "cell_type": "code",
   "execution_count": null,
   "id": "_O4Svarb3Igs",
   "metadata": {
    "colab": {
     "base_uri": "https://localhost:8080/",
     "height": 1000
    },
    "id": "_O4Svarb3Igs",
    "outputId": "d6e79710-0810-4818-c301-2fb433ccca27",
    "scrolled": false
   },
   "outputs": [],
   "source": [
    "for energy in renewable_energy:\n",
    "    orig_df = world_consumption_df.groupby('year')[energy].mean()\n",
    "    orig_df = orig_df[orig_df!=0]\n",
    "    # print(orig_df)\n",
    "    rolmean = orig_df.rolling(window=12).mean() #window size 12 denotes 12 years\n",
    "    rolstd = orig_df.rolling(window=12).std()\n",
    "    #Plot rolling statistics\n",
    "    orig = plt.plot(orig_df, color='blue', label='Original')\n",
    "    mean = plt.plot(rolmean, color='red', label='Rolling Mean')\n",
    "    std = plt.plot(rolstd, color='black', label='Rolling Std')\n",
    "    plt.legend(loc='best')\n",
    "    plt.title('Rolling Mean & Standard Deviation for {}'.format(energy))\n",
    "    plt.show(block=False)"
   ]
  },
  {
   "cell_type": "markdown",
   "id": "DiOfZ7ZRDIfl",
   "metadata": {
    "id": "DiOfZ7ZRDIfl"
   },
   "source": [
    "Here we can see none of the series are stationary as both rolling mean and rolling standard keep increasing over time. We'll also check the same by taking the Dicky Fuller Test."
   ]
  },
  {
   "cell_type": "code",
   "execution_count": null,
   "id": "t-xH7jyH4EQq",
   "metadata": {
    "colab": {
     "base_uri": "https://localhost:8080/"
    },
    "id": "t-xH7jyH4EQq",
    "outputId": "392711bd-512f-4fd5-e185-c0729a7c25a1"
   },
   "outputs": [],
   "source": [
    "for energy in renewable_energy:\n",
    "    print(\"\\n{}\".format(energy))\n",
    "    adfuller_result = adfuller(world_consumption_df.groupby('year')[energy].mean())\n",
    "    print('\\nADF Statistic: {}\\np-value: {}\\n'.format(adfuller_result[0],adfuller_result[1]))\n",
    "    print('Critical Values:\\n\\t')\n",
    "    for key, value in adfuller_result[4].items():\n",
    "    print('{}: {}'.format(key, value))"
   ]
  },
  {
   "cell_type": "markdown",
   "id": "kYbNBMTyrO3Y",
   "metadata": {
    "id": "kYbNBMTyrO3Y"
   },
   "source": [
    "We see here even the p-values are much more than the threshold of 0.05. So the dicky fuller test also confirms the series aren't stationary. "
   ]
  },
  {
   "cell_type": "markdown",
   "id": "w5R8e9UmrcOJ",
   "metadata": {
    "id": "w5R8e9UmrcOJ"
   },
   "source": [
    "We apply a log function to the dataset to reduce the rate of increase of the series."
   ]
  },
  {
   "cell_type": "code",
   "execution_count": null,
   "id": "G5zXBGUBkc_H",
   "metadata": {
    "colab": {
     "base_uri": "https://localhost:8080/",
     "height": 394
    },
    "id": "G5zXBGUBkc_H",
    "outputId": "b9e63b29-3cee-4a67-a6a4-ee358a1b30c8"
   },
   "outputs": [],
   "source": [
    "#Estimating trend\n",
    "orig_df = world_consumption_df.groupby('year')['nuclear_consumption'].mean()\n",
    "world_consumption_df_logScale = np.log(orig_df)\n",
    "# plt.plot(orig_df)\n",
    "plt.plot(world_consumption_df_logScale)"
   ]
  },
  {
   "cell_type": "markdown",
   "id": "zlSiWqLCrtD_",
   "metadata": {
    "id": "zlSiWqLCrtD_"
   },
   "source": [
    "We now define a forecasting function which takes in as dataframe, list of energies and the number of years to predict for as input"
   ]
  },
  {
   "cell_type": "code",
   "execution_count": null,
   "id": "5yr64wTgkpek",
   "metadata": {
    "id": "5yr64wTgkpek"
   },
   "outputs": [],
   "source": [
    "def get_forecast(data, energy_list, number_of_years_to_predict, plot):\n",
    "    # data  = data.set_index(['year'])\n",
    "    energy_results_ARIMA = {}\n",
    "    for energy in energy_list:\n",
    "        energy_results_ARIMA[energy] = {}\n",
    "        # energy = 'oil_consumption'\n",
    "        orig_df = data.groupby('year')[energy].mean()\n",
    "        orig_df = orig_df[orig_df!=0]\n",
    "        # print(orig_df)\n",
    "        start_year_str = str(orig_df.index[0])\n",
    "        end_year_str = str(orig_df.index[-1]+1)\n",
    "        orig_df.index = pd.date_range(start=start_year_str, end=end_year_str, freq='A')\n",
    "        data_logScale = np.log(orig_df)\n",
    "        model = ARIMA(data_logScale, order=(2,1,0))\n",
    "\n",
    "        results_ARIMA = model.fit(disp=-1)\n",
    "        # plt.plot(energy_consumption_df_top_5_logScale)\n",
    "        # plt.plot(results_ARIMA.fittedvalues, color='red')\n",
    "        # plt.title('Forecasting {} Consumption'.format(energy))\n",
    "        energy_results_ARIMA[energy]['year_cnt'] = len(orig_df)\n",
    "        if(plot==True):\n",
    "            results_ARIMA.plot_predict(1,len(orig_df)-1+number_of_years_to_predict)\n",
    "            plt.show()\n",
    "        energy_results_ARIMA[energy]['model'] = results_ARIMA\n",
    "    return energy_results_ARIMA"
   ]
  },
  {
   "cell_type": "code",
   "execution_count": null,
   "id": "pw20kvo6s1If",
   "metadata": {
    "id": "pw20kvo6s1If"
   },
   "outputs": [],
   "source": [
    "# total world consumption energy wise\n",
    "def get_energy_consumption_estimation(num_years_to_predict, energy_results_ARIMA):\n",
    "    tot_cons_energy_wise = {}\n",
    "    for energy in energy_results_ARIMA.keys():\n",
    "        year_cnt = energy_results_ARIMA[energy]['year_cnt']\n",
    "        yearwise_energy_consp_log = energy_results_ARIMA[energy]['model'].forecast(year_cnt+num_years_to_predict)\n",
    "        yearwise_energy_consp_exp = np.exp(yearwise_energy_consp_log[0])\n",
    "        tot__predicted_energy_consp = sum(yearwise_energy_consp_exp[-num_years_to_predict:])\n",
    "        print(\"Total World {} estimation: {} Exajoule\".format(energy, tot__predicted_energy_consp))\n",
    "        tot_cons_energy_wise[energy] = tot__predicted_energy_consp\n",
    "    return tot_cons_energy_wise"
   ]
  },
  {
   "cell_type": "markdown",
   "id": "9g21zTVfsOgE",
   "metadata": {
    "id": "9g21zTVfsOgE"
   },
   "source": [
    "### Prediction for global energy consumption for fossil fuels and low-carbon resources using the ARIMA time series model"
   ]
  },
  {
   "cell_type": "markdown",
   "id": "jjqZIehZr8zB",
   "metadata": {
    "id": "jjqZIehZr8zB"
   },
   "source": [
    "We now find the estimated numerical values of low carbon energies consumption in the next 10 years"
   ]
  },
  {
   "cell_type": "code",
   "execution_count": null,
   "id": "ksrQm-LkS8ah",
   "metadata": {
    "colab": {
     "base_uri": "https://localhost:8080/",
     "height": 1000
    },
    "id": "ksrQm-LkS8ah",
    "outputId": "fa9cf86b-c2d4-4ab0-a683-2a217d148704",
    "scrolled": false
   },
   "outputs": [],
   "source": [
    "number_of_years_to_predict=10\n",
    "energy_results_ARIMA = get_forecast(world_consumption_df, renewable_energy, number_of_years_to_predict=10, plot=True)\n",
    "tot_cons_renewable_energy_wise = get_energy_consumption_estimation(number_of_years_to_predict, energy_results_ARIMA)"
   ]
  },
  {
   "cell_type": "markdown",
   "id": "w-KPPeS0tJgV",
   "metadata": {
    "id": "w-KPPeS0tJgV"
   },
   "source": [
    "Finding the estimated numerical values of fossil fuels energies consumption in the next 10 years"
   ]
  },
  {
   "cell_type": "code",
   "execution_count": null,
   "id": "4LS2UGHPsqcu",
   "metadata": {
    "colab": {
     "base_uri": "https://localhost:8080/"
    },
    "id": "4LS2UGHPsqcu",
    "outputId": "81d00ccd-40bd-4b15-9ef6-7952d8eddfb1"
   },
   "outputs": [],
   "source": [
    "fossil_fules = ['oil_consumption', 'gas_consumption', 'coal_consumption']\n",
    "energy_results_ARIMA = get_forecast(world_consumption_df, fossil_fules, number_of_years_to_predict, plot=False)\n",
    "tot_cons_fossil_energy_wise = get_energy_consumption_estimation(number_of_years_to_predict, energy_results_ARIMA)"
   ]
  },
  {
   "cell_type": "markdown",
   "id": "tasOdQWBvo2s",
   "metadata": {
    "id": "tasOdQWBvo2s"
   },
   "source": [
    "Getting the total amount of fossil fuel to be accounted for"
   ]
  },
  {
   "cell_type": "code",
   "execution_count": null,
   "id": "cKt9ayVmuoJx",
   "metadata": {
    "colab": {
     "base_uri": "https://localhost:8080/"
    },
    "id": "cKt9ayVmuoJx",
    "outputId": "e86de10f-b2d0-474b-fafd-bb7387e8fd58"
   },
   "outputs": [],
   "source": [
    "tot_fossil_fuel_energy = sum(tot_cons_fossil_energy_wise.values())\n",
    "print(\"Total fossil fuels energy estimate for the next 10 years: {} Exajoule\".format(tot_fossil_fuel_energy))"
   ]
  },
  {
   "cell_type": "markdown",
   "id": "8Le-8Oictgmj",
   "metadata": {
    "id": "8Le-8Oictgmj"
   },
   "source": [
    "### Conclusion"
   ]
  },
  {
   "cell_type": "markdown",
   "id": "6-adGMiItnHu",
   "metadata": {
    "id": "6-adGMiItnHu"
   },
   "source": [
    "There has been a promising growth of low carbon energies consumption. Assuming that there is a one to one mapping between consumption and production we are extrapolating to say that if consumption of a particular resource goes down then production also goes down, and vice versa. The net estimated fossil fuels consumption can distributed among the low carbon resources to meet the Paris climate goal. "
   ]
  },
  {
   "cell_type": "code",
   "execution_count": null,
   "id": "5sx2e_oetkwg",
   "metadata": {
    "id": "5sx2e_oetkwg"
   },
   "outputs": [],
   "source": []
  }
 ],
 "metadata": {
  "colab": {
   "collapsed_sections": [
    "cb701dba",
    "ce35d023",
    "4953b556",
    "70c30b22"
   ],
   "name": "Data Science Final Project INFO 6105.ipynb",
   "provenance": []
  },
  "kernelspec": {
   "display_name": "Python 3",
   "language": "python",
   "name": "python3"
  },
  "language_info": {
   "codemirror_mode": {
    "name": "ipython",
    "version": 3
   },
   "file_extension": ".py",
   "mimetype": "text/x-python",
   "name": "python",
   "nbconvert_exporter": "python",
   "pygments_lexer": "ipython3",
   "version": "3.8.8"
  }
 },
 "nbformat": 4,
 "nbformat_minor": 5
}
